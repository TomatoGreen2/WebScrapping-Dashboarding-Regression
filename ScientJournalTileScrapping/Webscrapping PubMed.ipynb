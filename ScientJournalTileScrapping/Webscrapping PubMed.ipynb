{
 "cells": [
  {
   "cell_type": "markdown",
   "id": "f8cd0989-7092-4927-88bf-822bd3de4073",
   "metadata": {},
   "source": [
    "# A small python selenium protocol to scrap article titles per year from the journal \"Cell\" through pubmed"
   ]
  },
  {
   "cell_type": "code",
   "execution_count": null,
   "id": "4e7271bd-607a-4e74-b991-126d7c8a88e7",
   "metadata": {},
   "outputs": [],
   "source": []
  },
  {
   "cell_type": "code",
   "execution_count": 1,
   "id": "dfab07ff-e210-47fd-967c-3c5d57e066dd",
   "metadata": {},
   "outputs": [],
   "source": [
    "### import libraries for selenium\n",
    "\n",
    "import time\n",
    "import lxml.html as html\n",
    "from selenium import webdriver\n",
    "from selenium.webdriver.support import expected_conditions as EC, wait\n",
    "from selenium.webdriver.chrome.service import Service\n",
    "from selenium.webdriver.common.by import By\n",
    "from selenium.webdriver.support.ui import WebDriverWait\n",
    "from selenium.webdriver.support import expected_conditions as EC\n",
    "from selenium.webdriver import ActionChains\n",
    "from selenium.webdriver.firefox.options import Options"
   ]
  },
  {
   "cell_type": "code",
   "execution_count": 2,
   "id": "f2277cd7-2d78-4000-b23f-047507fd12e1",
   "metadata": {},
   "outputs": [],
   "source": [
    "### define options for webdriver\n",
    "\n",
    "options = Options()\n",
    "options.add_argument(\"--ignore-certificate-errors\")\n",
    "options.add_argument(\"--incognito\")\n",
    "options.add_argument(\"--headless\")\n",
    "options.add_argument(\"--no-sandbox\")\n",
    "options.add_argument(\"--disable-dev-shm-usage\")"
   ]
  },
  {
   "cell_type": "code",
   "execution_count": 3,
   "id": "121fe928-300b-42d5-a092-f4e044cc32c6",
   "metadata": {},
   "outputs": [],
   "source": [
    "### scrap first shoe page for single shoe urls\n",
    "\n",
    "from bs4 import BeautifulSoup as bs\n",
    "import pandas as pd\n",
    "\n",
    "url1 = 'https://pubmed.ncbi.nlm.nih.gov/?term=%22Cell%22%5BJournal%5D&sort=pubdate&size=200'\n",
    "driver = webdriver.Firefox(options=options)\n",
    "driver.get(url1)\n",
    "page_source = driver.page_source\n",
    "soup = bs(page_source,features=\"html.parser\")\n",
    "\n",
    "article_css = '.search-results-chunk'\n",
    "\n",
    "articles = soup.select(article_css)\n",
    "all_results = [r.text for r in articles]\n",
    "result = all_results[0].split(\"Share\\n    \\n\\n\\n\\n\\n\\n\\n              \\n                \")\n",
    "result2 = [r.split(\"\\n\")[0] for r in result[1:]]\n",
    "result3 = [r.split(\".\\nCell. \")[1] for r in result[1:]]\n",
    "result4 = [r[:4] for r in result3]\n",
    "TitlesYears = pd.DataFrame({'Titles': result2, 'Years': result4})\n",
    "driver.close()"
   ]
  },
  {
   "cell_type": "code",
   "execution_count": 4,
   "id": "81d42d2c-1778-4996-bc1a-6869b04ece1d",
   "metadata": {},
   "outputs": [
    {
     "name": "stdout",
     "output_type": "stream",
     "text": [
      "                                                Titles Years\n",
      "0    Tumor-associated macrophages trigger MAIT cell...  2023\n",
      "1    A conserved family of immune effectors cleaves...  2023\n",
      "2    An ethical framework for human embryology with...  2023\n",
      "3    Insights and strategies for improving equity i...  2023\n",
      "4    RNA \"COURIERs\": Enabling synthetic cell-to-cel...  2023\n",
      "..                                                 ...   ...\n",
      "195  Negative allosteric modulation of the glucagon...  2023\n",
      "196  A neutrophil response linked to tumor control ...  2023\n",
      "197  T cell immunotherapies engage neutrophils to e...  2023\n",
      "198  Cytotoxic CD4+ T cells eliminate senescent cel...  2023\n",
      "199  Anteromedial thalamus gates the selection and ...  2023\n",
      "\n",
      "[200 rows x 2 columns]\n"
     ]
    }
   ],
   "source": [
    "print(TitlesYears)"
   ]
  },
  {
   "cell_type": "code",
   "execution_count": 6,
   "id": "5dcc41b9-8100-42df-857a-10e1e8d4335f",
   "metadata": {},
   "outputs": [
    {
     "name": "stderr",
     "output_type": "stream",
     "text": [
      "100%|██████████████████████████████████████████████████████████████████████████████████| 48/48 [07:08<00:00,  8.92s/it]\n"
     ]
    }
   ],
   "source": [
    "import time\n",
    "from tqdm import tqdm\n",
    "\n",
    "url1 = 'https://pubmed.ncbi.nlm.nih.gov/?term=%22Cell%22%5BJournal%5D&sort=pubdate&size=200'\n",
    "driver = webdriver.Firefox(options=options)\n",
    "driver.get(url1)\n",
    "articles_list = []\n",
    "\n",
    "for i in tqdm(list(range(2, 50))):\n",
    "# Click on United States button to enter the desired country on the pop-up\n",
    "    next_button = driver.find_element(By.XPATH, '/html/body/main/div[9]/div[2]/div[2]/div[2]/button[3]')\n",
    "    next_button.click()\n",
    "    time.sleep(2)\n",
    "    page_source = driver.page_source\n",
    "    soup = bs(page_source,features=\"html.parser\")\n",
    "    \n",
    "    article_css = '.search-results-chunk'\n",
    "    \n",
    "    articles = soup.select(article_css)\n",
    "    all_results = [r.text for r in articles]\n",
    "    result = all_results[0].split(\"Share\\n    \\n\\n\\n\\n\\n\\n\\n              \\n                \")\n",
    "    result2 = [r.split(\"\\n\")[0] for r in result[1:]]\n",
    "    result3 = [r.split(\".\\nCell. \")[1] for r in result[1:]]\n",
    "    result4 = [r[:4] for r in result3]\n",
    "    articlesyear = pd.DataFrame({'Titles': result2, 'Years': result4})\n",
    "    articles_list.append(articlesyear)\n",
    "driver.close()"
   ]
  },
  {
   "cell_type": "code",
   "execution_count": 8,
   "id": "337ce8f5-db0c-488f-838e-b85daf474035",
   "metadata": {},
   "outputs": [
    {
     "name": "stdout",
     "output_type": "stream",
     "text": [
      "                                                Titles Years\n",
      "0    Drosophila IKK-related kinase regulates nonapo...  2006\n",
      "1    New evidence supporting megakaryocyte-erythroc...  2006\n",
      "2    Interchromosomal interactions and olfactory re...  2006\n",
      "3    In vivo two-photon imaging reveals a role of a...  2006\n",
      "4    FOXP3 controls regulatory T cell function thro...  2006\n",
      "..                                                 ...   ...\n",
      "195  Cellular conference call: external feedback af...  2006\n",
      "196  The KEOPS complex: a rosetta stone for telomer...  2006\n",
      "197  Increasingly irritable and close to tears: TRP...  2006\n",
      "198  Connecting cancer to the asymmetric division o...  2006\n",
      "199  LRP6 holds the key to the entry of anthrax toxin.  2006\n",
      "\n",
      "[200 rows x 2 columns]\n"
     ]
    }
   ],
   "source": [
    "print(articles_list[46])"
   ]
  },
  {
   "cell_type": "code",
   "execution_count": 11,
   "id": "66907bad-15f6-4332-8ff9-f41134beb288",
   "metadata": {},
   "outputs": [
    {
     "name": "stdout",
     "output_type": "stream",
     "text": [
      "                                                  Titles Years\n",
      "0      Tumor-associated macrophages trigger MAIT cell...  2023\n",
      "1      A conserved family of immune effectors cleaves...  2023\n",
      "2      An ethical framework for human embryology with...  2023\n",
      "3      Insights and strategies for improving equity i...  2023\n",
      "4      RNA \"COURIERs\": Enabling synthetic cell-to-cel...  2023\n",
      "...                                                  ...   ...\n",
      "28995  A slowed classical pathway rather than kiss-an...  2005\n",
      "28996  Exploration of the function and organization o...  2005\n",
      "28997  Divergence of melanocortin pathways in the con...  2005\n",
      "28998  A Hox regulatory network establishes motor neu...  2005\n",
      "28999  Calibrated measurement of gating-charge argini...  2005\n",
      "\n",
      "[29000 rows x 2 columns]\n"
     ]
    }
   ],
   "source": [
    "### combine to one pandas frame\n",
    "\n",
    "for elem in articles_list:\n",
    "    TitlesYears = pd.concat([TitlesYears, elem], ignore_index=True)\n",
    "    \n",
    "print(TitlesYears)"
   ]
  },
  {
   "cell_type": "code",
   "execution_count": 12,
   "id": "e9c48f00-2387-4589-9e48-b5534dbc4e75",
   "metadata": {},
   "outputs": [],
   "source": [
    "### save results\n",
    "\n",
    "TitlesYears.to_csv('CellArticleTitles.csv')"
   ]
  },
  {
   "cell_type": "code",
   "execution_count": null,
   "id": "2b7903a3-27f9-498d-86a9-78d20e02c626",
   "metadata": {},
   "outputs": [],
   "source": []
  }
 ],
 "metadata": {
  "kernelspec": {
   "display_name": "Python 3 (ipykernel)",
   "language": "python",
   "name": "python3"
  },
  "language_info": {
   "codemirror_mode": {
    "name": "ipython",
    "version": 3
   },
   "file_extension": ".py",
   "mimetype": "text/x-python",
   "name": "python",
   "nbconvert_exporter": "python",
   "pygments_lexer": "ipython3",
   "version": "3.9.17"
  }
 },
 "nbformat": 4,
 "nbformat_minor": 5
}
