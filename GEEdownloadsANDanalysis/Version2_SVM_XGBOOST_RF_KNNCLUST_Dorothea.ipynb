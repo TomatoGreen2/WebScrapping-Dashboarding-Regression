{
 "cells": [
  {
   "cell_type": "markdown",
   "id": "3f30dfc4-ec30-45e1-b208-05b26f9bf87d",
   "metadata": {},
   "source": [
    "# How to access and display a Sentinel-2 image through GEE, analyze the spectral band intensities for areas of interest, and segment the image with SVM, XGBOOST, Random Forests, or K-means clustering"
   ]
  },
  {
   "cell_type": "markdown",
   "id": "39521f58-89cf-40a3-961f-12ad3d943e37",
   "metadata": {},
   "source": []
  },
  {
   "cell_type": "markdown",
   "id": "850f9b0f-da28-48c8-8a7e-064c24380944",
   "metadata": {},
   "source": [
    "### Table of Content:\n",
    "\n",
    "[Part1: search for Sentinel-2 images through GEE and save as GeoTIFs](#-Part1:-search-for-Sentinel-2-images-through-GEE-and-save-as-GeoTIFs) <br>\n",
    "[Part2: read the files again in with rasterio and characterize band intensities](#-Part2:-read-the-files-again-in-with-rasterio-and-characterize-band-intensities) <br>\n",
    "[Part 3: Pixel-level classification with your bands](#-Part-3:-Pixel-level-classification-with-your-bands) <br>"
   ]
  },
  {
   "cell_type": "code",
   "execution_count": null,
   "id": "c3f51363-1e1b-48b4-aad8-7159297d6554",
   "metadata": {},
   "outputs": [],
   "source": [
    "### install necessary libraries\n",
    "\n",
    "#! pip install -U scikit-learn\n",
    "#! pip install rasterio\n",
    "#! pip install matplotlib shapely rich holoviews rioxarray\n",
    "#! pip install earthengine-api\n",
    "#! pip install geemap\n",
    "#! pip install scikit-learn-intelex\n",
    "#! pip install tifffile\n",
    "#! pip install scikit-image\n",
    "#! pip install opencv-python\n",
    "#! pip install pykml"
   ]
  },
  {
   "cell_type": "markdown",
   "id": "f80c0779-2603-4d34-9605-1ee40b47818a",
   "metadata": {},
   "source": [
    "# Part1: search for Sentinel-2 images through GEE and save as GeoTIFs"
   ]
  },
  {
   "cell_type": "code",
   "execution_count": null,
   "id": "18c27dcb-a537-4191-9bf8-81ad074c4df2",
   "metadata": {},
   "outputs": [],
   "source": [
    "### import necessary libraries\n",
    "\n",
    "import ee\n",
    "import geemap\n",
    "import sklearn\n",
    "import geopandas as gpd\n",
    "import numpy as np\n",
    "import matplotlib.pyplot as plt\n",
    "import pandas as pd\n",
    "import fiona"
   ]
  },
  {
   "cell_type": "markdown",
   "id": "579ed33d-73cb-4e4d-b4d7-0db43261b113",
   "metadata": {},
   "source": [
    "#### log into google earth-engine \n",
    "For this you need an account with gee and you need to have created a project. The name of the project you assign the your_authentication_gee_project variable "
   ]
  },
  {
   "cell_type": "code",
   "execution_count": null,
   "id": "3f9ebeea-4e50-4f6c-ba95-c117e398e8d0",
   "metadata": {},
   "outputs": [],
   "source": [
    "your_authentication_gee_project = \"dp-ee-omdena\" # add your project name here\n",
    "\n",
    "ee.Authenticate()\n",
    "ee.Initialize(project=your_authentication_gee_project)"
   ]
  },
  {
   "cell_type": "markdown",
   "id": "6bdb6f2b-5053-4376-964f-10e79827d343",
   "metadata": {},
   "source": [
    "#### define area of interest by reading in a geojson\n",
    "alternatively look up coordinated directly here: https://geojson.io/#map=2/0/20\n",
    "and pluf into: \n",
    "AOI = ee.Geometry.Polygon([[ COORDINATES ]])"
   ]
  },
  {
   "cell_type": "markdown",
   "id": "5c772d53-7582-4a92-85e1-b5081802a535",
   "metadata": {},
   "source": [
    "Akis Northern Sardinia (AOI1):"
   ]
  },
  {
   "cell_type": "code",
   "execution_count": null,
   "id": "98e7b2d0-1cd5-4f2b-ab0a-c93feadfe5a2",
   "metadata": {},
   "outputs": [],
   "source": [
    "# Path to your GeoJSON file\n",
    "geojson_file_path = './Akis/sardinia_aoi_2.geojson'\n",
    "\n",
    "# Load GeoJSON as an ee.Geometry\n",
    "AOI1 = geemap.geojson_to_ee(geojson_file_path)"
   ]
  },
  {
   "cell_type": "markdown",
   "id": "4196aa88-303f-4361-ad66-9177d002b9f3",
   "metadata": {},
   "source": [
    "Greek Beach - Eastern Macedonia (AOI2):"
   ]
  },
  {
   "cell_type": "code",
   "execution_count": null,
   "id": "72f583c3-14ef-427f-8c14-d8773e8af005",
   "metadata": {},
   "outputs": [],
   "source": [
    "### from Dagshub file 'eastern_macedonian_coast_greek_sea.geojson'\n",
    "\n",
    "AOI2 = ee.Geometry.Polygon([[\n",
    "      [24.119557891949093, 40.657321340525456],\n",
    "      [24.365906219911057, 40.77346272940198],\n",
    "      [24.293121796082932, 40.84570271430106],\n",
    "      [24.050049286317307, 40.7344516585937],\n",
    "      [24.119557891949093, 40.657321340525456]]])"
   ]
  },
  {
   "cell_type": "markdown",
   "id": "62272845-9400-46e0-83a7-19a60a6e108f",
   "metadata": {},
   "source": [
    "Greek Beach - Lourdas Bay (AOI3):"
   ]
  },
  {
   "cell_type": "code",
   "execution_count": null,
   "id": "8bc7cfb2-9880-483e-8874-b704116ab929",
   "metadata": {},
   "outputs": [],
   "source": [
    "### from Dagshub file 'lourdas_bay_greek_sea.geojson'\n",
    "\n",
    "AOI3 = ee.Geometry.Polygon([[\n",
    "    [20.667496, 38.131663], \n",
    "    [20.667496, 38.051675], \n",
    "    [20.565864, 38.051675], \n",
    "    [20.565864, 38.131663], \n",
    "    [20.667496, 38.131663]]])"
   ]
  },
  {
   "cell_type": "markdown",
   "id": "d4cd4485-3dad-48d9-a255-c8a0c6fac23a",
   "metadata": {},
   "source": [
    "Mallorquin coast - Muntanyes d' Arta (AOI4):"
   ]
  },
  {
   "cell_type": "code",
   "execution_count": null,
   "id": "b686466c-ba61-4e8a-b6f8-34a511fa24d5",
   "metadata": {},
   "outputs": [],
   "source": [
    "### Mallorca file 'Muntanyes_d_Arta.kml'\n",
    "\n",
    "# Set driver support for KML files\n",
    "fiona.drvsupport.supported_drivers['KML'] = 'rw'\n",
    "\n",
    "kml_file_1 = './GeoTIFsForSVM/Muntanyes_d_Arta.kml'\n",
    "\n",
    "# Read the KML file into a GeoDataFrame\n",
    "gdf_Mallorca_1 = gpd.read_file(kml_file_1, driver='KML')"
   ]
  },
  {
   "cell_type": "code",
   "execution_count": null,
   "id": "602bbc2e-1197-4f9c-9f32-557f6b7aba7e",
   "metadata": {},
   "outputs": [],
   "source": [
    "from shapely.geometry import Polygon\n",
    "\n",
    "# Convert geometries to 2D (remove Z coordinate)\n",
    "gdf_Mallorca_1.geometry = gdf_Mallorca_1.geometry.apply(lambda geom: Polygon([(point[0], point[1]) for point in geom.exterior.coords]))\n",
    "\n",
    "# Check the geometries again\n",
    "gdf_Mallorca_1.head(3)"
   ]
  },
  {
   "cell_type": "code",
   "execution_count": null,
   "id": "46fdadc9-fabb-4e07-b89d-613a48e3a563",
   "metadata": {},
   "outputs": [],
   "source": [
    "### get AOI for ee library\n",
    "\n",
    "bbox1 = gdf_Mallorca_1.total_bounds\n",
    "\n",
    "minx, miny, maxx, maxy = bbox1\n",
    "\n",
    "# Create a bounding box geometry with the correct CRS\n",
    "crs = 'EPSG:4326'  # Assuming the bounding box coordinates are in WGS84\n",
    "AOI4 = ee.Geometry.Rectangle([minx, miny, maxx, maxy], crs, False)"
   ]
  },
  {
   "cell_type": "code",
   "execution_count": null,
   "id": "d29f5693-4da9-48ac-8f2f-9c730a819213",
   "metadata": {},
   "outputs": [],
   "source": [
    "### check\n",
    "from shapely.geometry import mapping\n",
    "# Create a geemap Map instance\n",
    "M = geemap.Map()\n",
    "\n",
    "fc1= geemap.geopandas_to_ee(gdf_Mallorca_1)\n",
    "\n",
    "# Add the bounding box geometry to the map\n",
    "M.addLayer(AOI4, {'color': 'blue'}, 'Bounding Box Geometry')\n",
    "M.centerObject(AOI4, zoom=10)\n",
    "M.add_ee_layer(fc1, {'color': 'red'}, 'Polygons from GeoPandas')\n",
    "\n",
    "# Display the map\n",
    "M"
   ]
  },
  {
   "cell_type": "markdown",
   "id": "2b1ac7bc-90e1-4863-b327-c2e688d86dce",
   "metadata": {},
   "source": [
    "Mallorquin coast - Costa de Llevant (AOI5):"
   ]
  },
  {
   "cell_type": "code",
   "execution_count": null,
   "id": "180827de-c468-4728-ade3-ea626e8fd09e",
   "metadata": {},
   "outputs": [],
   "source": [
    "### Mallorca file 'Muntanyes_d_Arta.kml'\n",
    "\n",
    "# Set driver support for KML files\n",
    "fiona.drvsupport.supported_drivers['KML'] = 'rw'\n",
    "\n",
    "kml_file_2 = './GeoTIFsForSVM/Costa de Llevant.kml'\n",
    "\n",
    "# Read the KML file into a GeoDataFrame\n",
    "gdf_Mallorca_2 = gpd.read_file(kml_file_2, driver='KML')"
   ]
  },
  {
   "cell_type": "code",
   "execution_count": null,
   "id": "7f372b64-272b-47aa-ada7-f91500c021a0",
   "metadata": {},
   "outputs": [],
   "source": [
    "from shapely.geometry import Polygon\n",
    "\n",
    "# Convert geometries to 2D (remove Z coordinate)\n",
    "gdf_Mallorca_2.geometry = gdf_Mallorca_2.geometry.apply(lambda geom: Polygon([(point[0], point[1]) for point in geom.exterior.coords]))\n",
    "\n",
    "# Check the geometries again\n",
    "gdf_Mallorca_2.head(3)"
   ]
  },
  {
   "cell_type": "code",
   "execution_count": null,
   "id": "6ae1d506-b25d-462d-ae75-11ed936d8e69",
   "metadata": {},
   "outputs": [],
   "source": [
    "### get AOI for ee library\n",
    "\n",
    "bbox2 = gdf_Mallorca_2.total_bounds\n",
    "\n",
    "minx, miny, maxx, maxy = bbox2\n",
    "\n",
    "# Create a bounding box geometry with the correct CRS\n",
    "crs = 'EPSG:4326'  # Assuming the bounding box coordinates are in WGS84\n",
    "AOI5 = ee.Geometry.Rectangle([minx, miny, maxx, maxy], crs, False)"
   ]
  },
  {
   "cell_type": "code",
   "execution_count": null,
   "id": "4a2067ca-1ea9-42be-8545-d39fa44dd79d",
   "metadata": {},
   "outputs": [],
   "source": [
    "### check\n",
    "\n",
    "# Create a geemap Map instance\n",
    "M3 = geemap.Map()\n",
    "fc2= geemap.geopandas_to_ee(gdf_Mallorca_2)\n",
    "\n",
    "# Add the bounding box geometry to the map\n",
    "M3.addLayer(AOI5, {'color': 'blue'}, 'Bounding Box Geometry')\n",
    "M3.centerObject(AOI5, zoom=10)\n",
    "M3.add_ee_layer(fc2, {'color': 'red'}, 'Polygons from GeoPandas')\n",
    "# Display the map\n",
    "M3"
   ]
  },
  {
   "cell_type": "markdown",
   "id": "08cf2f67-5235-4868-90cd-4d45d9e225e9",
   "metadata": {},
   "source": [
    "#### search collection and do cloud filtering on the fly "
   ]
  },
  {
   "cell_type": "code",
   "execution_count": null,
   "id": "397b8739-34c8-4f61-b244-e8c7dbaec042",
   "metadata": {},
   "outputs": [],
   "source": [
    "### chose image collectionw\n",
    "\n",
    "s2SrCollection = ee.ImageCollection('COPERNICUS/S2_SR_HARMONIZED')\n",
    "csPlus = ee.ImageCollection('GOOGLE/CLOUD_SCORE_PLUS/V1/S2_HARMONIZED')"
   ]
  },
  {
   "cell_type": "code",
   "execution_count": null,
   "id": "747573c6-1fd6-442f-9036-b37e86de9fe2",
   "metadata": {},
   "outputs": [],
   "source": [
    "### some  cloud correction thresholds\n",
    "\n",
    "### do cloud correction:\n",
    "ROI = AOI2\n",
    "\n",
    "QA_BAND = 'cs'\n",
    "CLEAR_THRESHOLD = 0.80"
   ]
  },
  {
   "cell_type": "code",
   "execution_count": null,
   "id": "72967ccf-53c7-49c6-812d-3c3963774ade",
   "metadata": {},
   "outputs": [],
   "source": [
    "### get actual image collection\n",
    "\n",
    "composite = s2SrCollection.filterBounds(ROI).filterDate('2022-01-01', '2022-02-01').linkCollection(csPlus, [QA_BAND]).map(lambda img: img.updateMask(img.select(QA_BAND).gte(CLEAR_THRESHOLD)))"
   ]
  },
  {
   "cell_type": "code",
   "execution_count": null,
   "id": "66ede578-20e8-4a46-b9ee-de1adcad2f08",
   "metadata": {},
   "outputs": [],
   "source": [
    "### check how many images were selected\n",
    "\n",
    "composite.size()"
   ]
  },
  {
   "cell_type": "markdown",
   "id": "4a70114f-5db1-4cb6-86d4-57cf25be8f2e",
   "metadata": {},
   "source": [
    "#### save ROI as shapefile"
   ]
  },
  {
   "cell_type": "code",
   "execution_count": null,
   "id": "1249d386-9374-45d2-97ec-2b047d372f3b",
   "metadata": {},
   "outputs": [],
   "source": [
    "# Convert the Earth Engine geometry to a feature\n",
    "feature_ROI = ee.Feature(ROI, {})\n",
    "\n",
    "# Create a feature collection\n",
    "fc_ROI = ee.FeatureCollection([feature_ROI])\n",
    "\n",
    "# Specify the path to save the shapefile\n",
    "output_shp = './GeoTIFsForSVM/AOI2_shapefile.shp'\n",
    "\n",
    "# Export the feature collection as a shapefile\n",
    "geemap.ee_export_vector(fc_ROI, filename=output_shp)"
   ]
  },
  {
   "cell_type": "markdown",
   "id": "27f5bc45-d286-40a6-8665-b4768f65d323",
   "metadata": {},
   "source": [
    "#### create median value image"
   ]
  },
  {
   "cell_type": "code",
   "execution_count": null,
   "id": "61b650e5-7b24-4208-baf0-df1d545ff17f",
   "metadata": {},
   "outputs": [],
   "source": [
    "image = composite.median()"
   ]
  },
  {
   "cell_type": "markdown",
   "id": "f571f22a-48ec-431d-ae1d-ea3b85a8d3a2",
   "metadata": {},
   "source": [
    "#### mask the land "
   ]
  },
  {
   "cell_type": "code",
   "execution_count": null,
   "id": "255c11e8-e7a7-4856-adcc-79267cc73af1",
   "metadata": {},
   "outputs": [],
   "source": [
    "def mask_land(image):\n",
    "    # This is a simple example. You may need a more specific way to identify water vs. land.\n",
    "    ndwi = image.normalizedDifference(['B3', 'B8']).rename('NDWI')  # NDWI (Normalized Difference Water Index) calculation\n",
    "    water_threshold = 0  # Threshold value to distinguish water; adjust as needed -> some say needs to be 0.3 or 0\n",
    "    water_mask = ndwi.gte(water_threshold)  # Water areas\n",
    "    return image.updateMask(water_mask)"
   ]
  },
  {
   "cell_type": "code",
   "execution_count": null,
   "id": "93d4560c-6634-44d6-ae9d-5a4789350968",
   "metadata": {},
   "outputs": [],
   "source": [
    "masked_image = mask_land(image)"
   ]
  },
  {
   "cell_type": "code",
   "execution_count": null,
   "id": "a867f8c6-eb05-474c-a6bb-207dd17c16ab",
   "metadata": {},
   "outputs": [],
   "source": [
    "### check\n",
    "\n",
    "M1 = geemap.Map()\n",
    "M1.addLayer(masked_image, {'bands': ['B4', 'B3', 'B2'], 'min': 0, 'max': 3000}, 'Masked Image')  # Visualize using RGB bands\n",
    "M1.centerObject(ROI, 12)  # Zoom into the area around Corsica\n",
    "M1"
   ]
  },
  {
   "cell_type": "markdown",
   "id": "01893c38-7f60-4e0d-bd93-f250de59eaa7",
   "metadata": {},
   "source": [
    "#### store water mask as shapefile"
   ]
  },
  {
   "cell_type": "code",
   "execution_count": null,
   "id": "c393cb5d-9905-421a-b729-7068e5d52766",
   "metadata": {},
   "outputs": [],
   "source": [
    "roi = ROI\n",
    "\n",
    "# Load an image\n",
    "image2 = image\n",
    "\n",
    "# Create your mask based on band ratios\n",
    "ndwi = image.normalizedDifference(['B3', 'B8']).rename('NDWI')  # NDWI (Normalized Difference Water Index) calculation\n",
    "water_threshold = 0  # Threshold value to distinguish water; adjust as needed -> some say needs to be 0 or 0.3\n",
    "water_mask = ndwi.gte(water_threshold) \n",
    "\n",
    "# For example, converting a numpy array mask to an EE Image\n",
    "mask_ee = ee.Image(water_mask)\n",
    "\n",
    "# Convert the mask to vector (polygon) features\n",
    "features = mask_ee.reduceToVectors(scale=30, geometry=ROI)\n",
    "\n",
    "# Convert the vector features to a FeatureCollection\n",
    "feature_collection = ee.FeatureCollection(features)"
   ]
  },
  {
   "cell_type": "code",
   "execution_count": null,
   "id": "9ae52987-7e73-4e3d-8748-6200dfaa4fd3",
   "metadata": {},
   "outputs": [],
   "source": [
    "### check\n",
    "\n",
    "# Create a geemap Map instance\n",
    "M5 = geemap.Map()\n",
    "#fc2= geemap.geopandas_to_ee(gdf_Mallorca_2)\n",
    "\n",
    "# Add the bounding box geometry to the map\n",
    "#M5.addLayer(ROI, {'color': 'blue'}, 'Bounding Box Geometry')\n",
    "M5.centerObject(ROI, zoom=10)\n",
    "M5.add_ee_layer(feature_collection, {'color': 'red'}, 'Polygons from GeoPandas')\n",
    "# Display the map\n",
    "M5"
   ]
  },
  {
   "cell_type": "code",
   "execution_count": null,
   "id": "11c6c27e-d01a-4fcc-9e72-b6734b318d75",
   "metadata": {},
   "outputs": [],
   "source": [
    "# Convert the Earth Engine geometry to a feature\n",
    "#feature_ROI = ee.Feature(ROI, {})\n",
    "\n",
    "# Create a feature collection\n",
    "#fc_ROI = ee.FeatureCollection([feature_ROI])\n",
    "\n",
    "# Specify the path to save the shapefile\n",
    "output_shp2 = \"./GeoTIFsForSVM/AOI2d_watermask_geojson.geojson\"\n",
    "\n",
    "# Export the feature collection as a shapefile\n",
    "geemap.ee_export_vector(feature_collection, filename=output_shp2)"
   ]
  },
  {
   "cell_type": "markdown",
   "id": "769a9111-30f8-4533-9067-7c52c5534023",
   "metadata": {},
   "source": [
    "#### optional: calculate ratios between bands or normalized differences already with ee"
   ]
  },
  {
   "cell_type": "code",
   "execution_count": null,
   "id": "6a9516f7-6190-4c64-94d7-c3d9fd1507ac",
   "metadata": {},
   "outputs": [],
   "source": [
    "def addRatios(image):\n",
    "    rB8B2 = image.expression(\n",
    "        '(B8/B2)',\n",
    "        {\n",
    "            'B2': image.select('B2'),  # Change to 'B8A' for 705 nm\n",
    "            'B8': image.select('B8'),  # Change to 'B11' for 665 nm\n",
    "        }\n",
    "    ).rename('RB8B2')\n",
    "    rB8B4 = image.expression(\n",
    "        '(B8/B4)',\n",
    "        {\n",
    "            'B4': image.select('B4'),  # Change to 'B8A' for 705 nm\n",
    "            'B8': image.select('B8'),  # Change to 'B11' for 665 nm\n",
    "        }\n",
    "    ).rename('RB8B4')\n",
    "    rB3B2 = image.expression(\n",
    "        '(B3/B2)',\n",
    "        {\n",
    "            'B2': image.select('B2'),  # Change to 'B8A' for 705 nm\n",
    "            'B3': image.select('B3'),  # Change to 'B11' for 665 nm\n",
    "        }\n",
    "    ).rename('RB3B2')\n",
    "    rB8AB8 = image.expression(\n",
    "        '(B8A/B8)',\n",
    "        {\n",
    "            'B8A': image.select('B8A'),  # Change to 'B8A' for 705 nm\n",
    "            'B8': image.select('B8'),  # Change to 'B11' for 665 nm\n",
    "        }\n",
    "    ).rename('RB8AB8')\n",
    "    rB3B1 = image.expression(\n",
    "        '(B3/B1)',\n",
    "        {\n",
    "            'B3': image.select('B3'),  # Change to 'B8A' for 705 nm\n",
    "            'B1': image.select('B1'),  # Change to 'B11' for 665 nm\n",
    "        }\n",
    "    ).rename('RB3B1')\n",
    "    rB5B4 = image.expression(\n",
    "        '(B5/B4)',\n",
    "        {\n",
    "            'B4': image.select('B4'),  # Change to 'B8A' for 705 nm\n",
    "            'B5': image.select('B5'),  # Change to 'B11' for 665 nm\n",
    "        }\n",
    "    ).rename('RB5B4')\n",
    "    rB4B1 = image.expression(\n",
    "        '(B4/B1)',\n",
    "        {\n",
    "            'B4': image.select('B4'),  # Change to 'B8A' for 705 nm\n",
    "            'B1': image.select('B1'),  # Change to 'B11' for 665 nm\n",
    "        }\n",
    "    ).rename('RB4B1')\n",
    "    rB2B1 = image.expression(\n",
    "        '(B2/B1)',\n",
    "        {\n",
    "            'B2': image.select('B2'),  # Change to 'B8A' for 705 nm\n",
    "            'B1': image.select('B1'),  # Change to 'B11' for 665 nm\n",
    "        }\n",
    "    ).rename('RB2B1')\n",
    "    return image.addBands([rB8B2]).addBands([rB8B4]).addBands([rB3B2]).addBands([rB8AB8]).addBands([rB3B1]).addBands([rB5B4]).addBands([rB4B1]).addBands([rB2B1"
   ]
  },
  {
   "cell_type": "code",
   "execution_count": null,
   "id": "e3fead69-c1ef-46ba-88f5-7f3aa7634aa1",
   "metadata": {},
   "outputs": [],
   "source": [
    "def addNormDiff(image):\n",
    "#    rnir1 = image.normalizedDifference(['B5', 'B4']).rename('RNIR1')\n",
    "#    image = image.addBands(rnir1)\n",
    "    ###\n",
    "    B3B2 = image.normalizedDifference(['B3', 'B2']).rename('B3B2band')\n",
    "    image = image.addBands(B3B2)\n",
    "    ###\n",
    "    B8B2 = image.normalizedDifference(['B8', 'B2']).rename('B8B2band')\n",
    "    image = image.addBands([B8B2])\n",
    "    ###\n",
    "    B8B4 = image.normalizedDifference(['B8', 'B4']).rename('B8B4band')    \n",
    "    image = image.addBands([B8B4])\n",
    "    ###\n",
    "    B1B2 = image.normalizedDifference(['B1', 'B2']).rename('B1B2band')\n",
    "    image = image.addBands([B1B2])\n",
    "    ###\n",
    "    B1B4 = image.normalizedDifference(['B1', 'B4']).rename('B1B4band')\n",
    "    image = image.addBands([B1B4])\n",
    "#\n",
    "    B5B4 = image.normalizedDifference(['B5', 'B4']).rename('B5B4band')\n",
    "    image = image.addBands([B5B4])\n",
    "    B8B8A = image.normalizedDifference(['B8', 'B8A']).rename('B8B8Aband')\n",
    "    image = image.addBands([B8B8A])\n",
    "\n",
    "    return image"
   ]
  },
  {
   "cell_type": "code",
   "execution_count": null,
   "id": "d450a42d-71c4-4bfd-88aa-df9035d5c9b9",
   "metadata": {},
   "outputs": [],
   "source": [
    "withRatios = addRatios(masked_images)\n",
    "withRatios.bandNames().getInfo()"
   ]
  },
  {
   "cell_type": "code",
   "execution_count": null,
   "id": "95493b5a-988f-46f2-a52c-06d52f17c56e",
   "metadata": {},
   "outputs": [],
   "source": [
    "withNormDiff = addNormDiff(masked_images)\n",
    "withNormDiff.bandNames().getInfo()"
   ]
  },
  {
   "cell_type": "markdown",
   "id": "28ee43ce-bfea-4bd8-9e4c-b7d00fbfc3ce",
   "metadata": {},
   "source": [
    "#### save as GeoTIF\n",
    "Save as 2 files (2 each) due to size limitations of ee"
   ]
  },
  {
   "cell_type": "code",
   "execution_count": null,
   "id": "0655f4c9-f1fc-4fa9-9e2e-95885c71cc8c",
   "metadata": {},
   "outputs": [],
   "source": [
    "tofile1 = masked_image.select(['B1', 'B2', 'B3', 'B4'])\n",
    "\n",
    "filename1 = './GeoTIFsForSVM/AOI2c_1_B1_B2_B3_B4_med_Jan_GeoTIFF.tif'\n",
    "image_1 = tofile1.clip(ROI).unmask()\n",
    "geemap.ee_export_image(image_1, filename=filename1, scale=30, crs='EPSG:4326', region=ROI, file_per_band=False)"
   ]
  },
  {
   "cell_type": "code",
   "execution_count": null,
   "id": "0a8e60d9-f2ca-49c7-af9c-60eaf5c3018f",
   "metadata": {},
   "outputs": [],
   "source": [
    "tofile2 = masked_image.select(['B5', 'B8', 'B8A'])\n",
    "\n",
    "filename2 = './GeoTIFsForSVM/AOI2c_2_B5_B8_B8A_med_Jan_GeoTIFF.tif'\n",
    "image_2 = tofile2.clip(ROI).unmask()\n",
    "geemap.ee_export_image(image_2, filename=filename2, scale=30, crs='EPSG:4326', region=ROI, file_per_band=False)"
   ]
  },
  {
   "cell_type": "markdown",
   "id": "b71d7201-2ff2-4e1b-aef6-74e88bb16f35",
   "metadata": {},
   "source": [
    "# Part2: read the files again in with rasterio and characterize band intensities"
   ]
  },
  {
   "cell_type": "code",
   "execution_count": null,
   "id": "78524eba-5265-4730-a350-4bffc051dc82",
   "metadata": {},
   "outputs": [],
   "source": [
    "### import required libraries\n",
    "\n",
    "import rasterio as rio\n",
    "import matplotlib.pyplot as plt\n",
    "import numpy as np\n",
    "from shapely.geometry import shape\n",
    "import geopandas as gpd\n",
    "from rasterio.mask import mask\n",
    "from shapely.geometry import mapping\n",
    "from rasterio.features import geometry_mask\n",
    "from rasterio.plot import show\n",
    "import holoviews as hv\n",
    "import hvplot.xarray\n",
    "import xarray as xr\n",
    "import hvplot.pandas\n",
    "from shapely.geometry import box\n",
    "from shapely.ops import unary_union\n",
    "import os\n",
    "from rasterio.enums import Resampling\n",
    "import contextily\n",
    "from rasterio.mask import mask\n",
    "import subprocess\n",
    "import rasterio as rio\n",
    "import numpy as np\n",
    "import pandas as pd\n",
    "import geopandas as gpd\n",
    "import fiona"
   ]
  },
  {
   "cell_type": "markdown",
   "id": "f8dbb448-eba9-40b0-8e6e-7159fab5a878",
   "metadata": {},
   "source": [
    "#### read in seagrass polygons"
   ]
  },
  {
   "cell_type": "markdown",
   "id": "53699809-5f9c-49c9-b444-f249cb5f3f0e",
   "metadata": {},
   "source": [
    "#### from Akis seagrass polygon files (AOI1)"
   ]
  },
  {
   "cell_type": "code",
   "execution_count": null,
   "id": "18c7b8de-55eb-48bd-9131-e6f9f7546db7",
   "metadata": {},
   "outputs": [],
   "source": [
    "### load mask\n",
    "\n",
    "import glob\n",
    "\n",
    "# Specify the path to the folder containing GeoJSON files\n",
    "folder_path = \"./Akis/features/\"\n",
    "\n",
    "# Get a list of all GeoJSON files in the folder\n",
    "geojson_files = glob.glob(folder_path + \"*.geojson\")\n",
    "\n",
    "# Initialize an empty GeoPandas DataFrame\n",
    "gdf_list = []\n",
    "\n",
    "# Loop through each GeoJSON file and read into a GeoPandas DataFrame\n",
    "for file_path in geojson_files:\n",
    "    gdf = gpd.read_file(file_path)\n",
    "    gdf_list.append(gdf)"
   ]
  },
  {
   "cell_type": "code",
   "execution_count": null,
   "id": "758435e9-2cd4-463f-b5b3-9c247f653da4",
   "metadata": {},
   "outputs": [],
   "source": [
    "# Concatenate all GeoPandas DataFrames into a single DataFrame\n",
    "combined_gdf = pd.concat(gdf_list, ignore_index=True)\n",
    "\n",
    "# Print or do further processing with the combined GeoPandas DataFrame\n",
    "print(combined_gdf.head())"
   ]
  },
  {
   "cell_type": "code",
   "execution_count": null,
   "id": "d569d727-0ce1-482d-98a0-d320a9e348ae",
   "metadata": {},
   "outputs": [],
   "source": [
    "# Assuming combined_gdf is your GeoDataFrame\n",
    "non_overlapping_geometry = combined_gdf.unary_union\n",
    "\n",
    "# Convert the MultiPolygon to a GeoDataFrame with one row per Polygon\n",
    "final_gdf = gpd.GeoDataFrame(geometry=[geom for geom in non_overlapping_geometry.geoms])\n",
    "final_gdf = final_gdf.set_crs(combined_gdf.crs)"
   ]
  },
  {
   "cell_type": "markdown",
   "id": "a5029626-9919-4c82-a9ab-f99f50ae28ca",
   "metadata": {},
   "source": [
    "#### from Greek sea dataset: Eastern Macedonian coast (AOI2)"
   ]
  },
  {
   "cell_type": "code",
   "execution_count": null,
   "id": "41b7189c-c437-4816-bc6b-bd08163bd0f7",
   "metadata": {},
   "outputs": [],
   "source": [
    "### from Dagshub file 'eastern_macedonian_coast_greek_sea.geojson'\n",
    "\n",
    "aoi_1 = ee.Geometry.Polygon([[\n",
    "      [24.119557891949093, 40.657321340525456],\n",
    "      [24.365906219911057, 40.77346272940198],\n",
    "      [24.293121796082932, 40.84570271430106],\n",
    "      [24.050049286317307, 40.7344516585937],\n",
    "      [24.119557891949093, 40.657321340525456]]])"
   ]
  },
  {
   "cell_type": "code",
   "execution_count": null,
   "id": "3fd48396-e4c2-429b-abfb-0560da3a4f71",
   "metadata": {},
   "outputs": [],
   "source": [
    "from shapely.geometry import shape\n",
    "\n",
    "# Reading Greek seas meadows into Geopandas dataframe\n",
    "seagrass_gdf = gpd.read_file('./GeoTIFsForSVM/Greek_Seagrass_Meadows_v0906/Greek Seagrass meadows v0906.shp')\n",
    "\n",
    "roi_crs = 'EPSG:4326'\n",
    "\n",
    "# Convert EE geometry to GeoJSON\n",
    "ee_geojson1 = ee.Feature(aoi_1).geometry().getInfo()\n",
    "\n",
    "# Convert GeoJSON to Shapely geometry\n",
    "shapely_geometry1 = shape(ee_geojson1)\n",
    "\n",
    "# Create a GeoPandas GeoDataFrame\n",
    "roi_1_gdf = gpd.GeoDataFrame(geometry=[shapely_geometry1], crs=roi_crs)\n",
    "\n",
    "# Changing the CRS of Landsat .shp data from EPSG:32635 to EPSG:4326\n",
    "seagrass_gdf = seagrass_gdf.to_crs(roi_crs)\n",
    "\n",
    "# Extracting the seagrass polygons in the region of interest\n",
    "seagrass_in_roi_1 = gpd.sjoin(seagrass_gdf, roi_1_gdf, how='inner', op='intersects')\n",
    "#seagrass_in_roi_1.drop(['index_right', 'name'], axis=1, inplace=True)"
   ]
  },
  {
   "cell_type": "code",
   "execution_count": null,
   "id": "c942b538-eaf6-41ac-940c-8426157e923c",
   "metadata": {},
   "outputs": [],
   "source": [
    "seagrass_in_roi_1"
   ]
  },
  {
   "cell_type": "markdown",
   "id": "fd922a30-04ce-42b4-b3b2-5ac1d56cd61b",
   "metadata": {},
   "source": [
    "#### from Greek sea dataset: Lourdas Bay (AOI3)"
   ]
  },
  {
   "cell_type": "code",
   "execution_count": null,
   "id": "7d68fdb1-1e24-4d12-9efb-4b28e4b61d18",
   "metadata": {},
   "outputs": [],
   "source": [
    "### from Dagshub file 'lourdas_bay_greek_sea.geojson'\n",
    "\n",
    "aoi_2 = ee.Geometry.Polygon([[\n",
    "    [20.667496, 38.131663], \n",
    "    [20.667496, 38.051675], \n",
    "    [20.565864, 38.051675], \n",
    "    [20.565864, 38.131663], \n",
    "    [20.667496, 38.131663]]])"
   ]
  },
  {
   "cell_type": "code",
   "execution_count": null,
   "id": "f183c6c4-f6d7-4694-98d8-bdb2c042ff06",
   "metadata": {},
   "outputs": [],
   "source": [
    "from shapely.geometry import shape\n",
    "\n",
    "# Reading Greek seas meadows into Geopandas dataframe\n",
    "seagrass_gdf = gpd.read_file('./GreekPolygons/GreekSeagrass_L8.shp')\n",
    "\n",
    "roi_crs = 'EPSG:4326'\n",
    "\n",
    "# Convert EE geometry to GeoJSON\n",
    "ee_geojson2 = ee.Feature(aoi_2).geometry().getInfo()\n",
    "\n",
    "# Convert GeoJSON to Shapely geometry\n",
    "shapely_geometry2 = shape(ee_geojson2)\n",
    "\n",
    "# Create a GeoPandas GeoDataFrame\n",
    "roi_2_gdf = gpd.GeoDataFrame(geometry=[shapely_geometry2], crs=roi_crs)\n",
    "\n",
    "# Changing the CRS of Landsat .shp data from EPSG:32635 to EPSG:4326\n",
    "seagrass_gdf = seagrass_gdf.to_crs(roi_crs)\n",
    "\n",
    "# Extracting the seagrass polygons in the region of interest\n",
    "seagrass_in_roi_2 = gpd.sjoin(seagrass_gdf, roi_2_gdf, how='inner', op='intersects')\n",
    "seagrass_in_roi_2.drop(['index_right', 'name'], axis=1, inplace=True)"
   ]
  },
  {
   "cell_type": "markdown",
   "id": "0136defb-6b46-475d-83f6-8785aa613504",
   "metadata": {},
   "source": [
    "#### read in polygons from 'Muntanyes_d_Arta.kml' (Mallorca) (AOI4)"
   ]
  },
  {
   "cell_type": "code",
   "execution_count": null,
   "id": "d569eb16-c719-4cd0-8b37-631a1d628059",
   "metadata": {},
   "outputs": [],
   "source": [
    "# Set driver support for KML files\n",
    "fiona.drvsupport.supported_drivers['KML'] = 'rw'\n",
    "\n",
    "# Specify the path to the KML file\n",
    "kml_file_1 = './GeoTIFsForSVM/Muntanyes_d_Arta.kml'\n",
    "\n",
    "# Read the KML file into a GeoDataFrame\n",
    "gdf_Mallorca_1 = gpd.read_file(kml_file_1, driver='KML')"
   ]
  },
  {
   "cell_type": "code",
   "execution_count": null,
   "id": "f052c86b-99ce-41c6-9722-716c05cdda62",
   "metadata": {},
   "outputs": [],
   "source": [
    "from shapely.geometry import Polygon\n",
    "\n",
    "# Convert geometries to 2D (remove Z coordinate)\n",
    "gdf_Mallorca_1.geometry = gdf_Mallorca_1.geometry.apply(lambda geom: Polygon([(point[0], point[1]) for point in geom.exterior.coords]))\n",
    "\n",
    "# Check the geometries again\n",
    "gdf_Mallorca_1.head(3)"
   ]
  },
  {
   "cell_type": "code",
   "execution_count": null,
   "id": "757fcd9a-67de-406c-a227-d6f1aed1c93a",
   "metadata": {},
   "outputs": [],
   "source": [
    "# Assuming combined_gdf is your GeoDataFrame\n",
    "non_overlapping_geometry_M1 = gdf_Mallorca_1.unary_union\n",
    "\n",
    "# Convert the MultiPolygon to a GeoDataFrame with one row per Polygon\n",
    "final_gdf_Mallorca1 = gpd.GeoDataFrame(geometry=[geom for geom in non_overlapping_geometry_M1.geoms])\n",
    "final_gdf_Mallorca1 = final_gdf_Mallorca1.set_crs(gdf_Mallorca_1.crs)"
   ]
  },
  {
   "cell_type": "code",
   "execution_count": null,
   "id": "e44e501e-b6d9-48c7-af6b-bd899eb089e4",
   "metadata": {},
   "outputs": [],
   "source": [
    "final_gdf_Mallorca1"
   ]
  },
  {
   "cell_type": "code",
   "execution_count": null,
   "id": "570b7d16-d4fc-4dcf-b96b-9ca04bf8e296",
   "metadata": {},
   "outputs": [],
   "source": [
    "### check\n",
    "import folium\n",
    "#from folium.plugins import GeoJson\n",
    "\n",
    "# Convert GeoDataFrame to GeoJSON\n",
    "gdf_json = final_gdf_Mallorca1.to_json()\n",
    "\n",
    "# Create a Folium map centered on the average of the geometry coordinates\n",
    "map_center = [final_gdf_Mallorca1.geometry.centroid.y.mean(), final_gdf_Mallorca1.geometry.centroid.x.mean()]\n",
    "m = folium.Map(location=map_center, zoom_start=10)\n",
    "\n",
    "# Add the GeoJSON data to the map\n",
    "geojson_layer = folium.GeoJson(gdf_json)\n",
    "m.add_child(geojson_layer)\n",
    "\n",
    "# Display the map\n",
    "m.save('map_Pos_1.html')"
   ]
  },
  {
   "cell_type": "markdown",
   "id": "ded257ca-9242-4cff-9811-ef9de351fdf3",
   "metadata": {},
   "source": [
    "#### read in aoi for Akis Sardinia dataset again"
   ]
  },
  {
   "cell_type": "code",
   "execution_count": null,
   "id": "fa9a5266-3daf-4d14-847b-541cf86bb5ad",
   "metadata": {},
   "outputs": [],
   "source": [
    "# Load GeoJSON file\n",
    "geojson_path = './Akis/sardinia_aoi_2.geojson'\n",
    "gdf = gpd.read_file(geojson_path)\n",
    "\n",
    "# Extract the polygon from the GeoDataFrame\n",
    "aoi_polygon = gdf['geometry'].iloc[0]\n",
    "aoi_polygon"
   ]
  },
  {
   "cell_type": "markdown",
   "id": "f9170015-251d-4c59-a1a0-05be3302bab7",
   "metadata": {},
   "source": [
    "#### read in aoi for other regions"
   ]
  },
  {
   "cell_type": "code",
   "execution_count": null,
   "id": "4b7f4b22-512a-4b4a-904b-ab81c09638f2",
   "metadata": {},
   "outputs": [],
   "source": [
    "# Load shape file\n",
    "shape_path = './GeoTIFsForSVM/AOI2_shapefile.shp'\n",
    "gdf_sh = gpd.read_file(shape_path)\n",
    "\n",
    "# Extract the polygon from the GeoDataFrame\n",
    "aoi_polygon = gdf_sh['geometry'].iloc[0]\n",
    "aoi_polygon"
   ]
  },
  {
   "cell_type": "markdown",
   "id": "9cc13f7c-30e0-4cdd-9beb-e0faa2de69ba",
   "metadata": {},
   "source": [
    "#### Read in shapefile of water mask"
   ]
  },
  {
   "cell_type": "code",
   "execution_count": null,
   "id": "16a3243d-9df0-4ad4-9d23-86db4b65011d",
   "metadata": {},
   "outputs": [],
   "source": [
    "# Specify the path to the shapefile\n",
    "shapefile_path = \"./GeoTIFsForSVM/AOI2d_watermask_geojson.geojson\"\n",
    "\n",
    "\n",
    "# Read the shapefile into a GeoDataFrame\n",
    "gdf_land_mask = gpd.read_file(shapefile_path)\n",
    "gdf_land_mask"
   ]
  },
  {
   "cell_type": "code",
   "execution_count": null,
   "id": "df9f972c-343b-4d06-a455-2cefbe176c92",
   "metadata": {},
   "outputs": [],
   "source": [
    "# Calculate the area of each polygon\n",
    "gdf_land_mask['area'] = gdf_land_mask.geometry.area\n",
    "\n",
    "# Sort the DataFrame by area in descending order\n",
    "gdf_sorted = gdf_land_mask.sort_values(by='area', ascending=False)\n",
    "\n",
    "# Keep only the largest polygon (first row)\n",
    "largest_polygon = gdf_sorted.iloc[0]\n",
    "\n",
    "# Create a new GeoDataFrame with only the largest polygon\n",
    "gdf_largest = gpd.GeoDataFrame(geometry=[largest_polygon.geometry])\n",
    "\n",
    "# Set the CRS if needed\n",
    "gdf_largest.crs = gdf_land_mask.crs"
   ]
  },
  {
   "cell_type": "code",
   "execution_count": null,
   "id": "ddc42996-3753-47a0-9026-271a818178b4",
   "metadata": {},
   "outputs": [],
   "source": [
    "### check\n",
    "import folium\n",
    "#from folium.plugins import GeoJson\n",
    "\n",
    "# Convert GeoDataFrame to GeoJSON\n",
    "gdf_json = gdf_largest.to_json()\n",
    "\n",
    "# Create a Folium map centered on the average of the geometry coordinates\n",
    "map_center = [gdf_largest.geometry.centroid.y.mean(), gdf_largest.geometry.centroid.x.mean()]\n",
    "m = folium.Map(location=map_center, zoom_start=10)\n",
    "\n",
    "# Add the GeoJSON data to the map\n",
    "geojson_layer = folium.GeoJson(gdf_json)\n",
    "m.add_child(geojson_layer)\n",
    "\n",
    "# Display the map\n",
    "m.save('map_land3.html')\n"
   ]
  },
  {
   "cell_type": "markdown",
   "id": "08a96aad-c59c-4b80-aead-9e69bc631e42",
   "metadata": {},
   "source": [
    "#### Option 1: read files as they are and create rasterio mask"
   ]
  },
  {
   "cell_type": "code",
   "execution_count": null,
   "id": "962b1798-4fe5-4ae1-87e8-7c5f36258db7",
   "metadata": {},
   "outputs": [],
   "source": [
    "# Replace 'your_multiband_geotiff.tif' with the actual file path\n",
    "file_path = './GeoTIFsForSVM/AOI2c_1_B1_B2_B3_B4_med_Jan_GeoTIFF.tif'\n",
    "\n",
    "# Open the GeoTIFF file with rasterio\n",
    "with rio.open(file_path) as src:\n",
    "    # Read the geospatial metadata\n",
    "    geotransform = src.transform\n",
    "    projection = src.crs\n",
    "    # Read all bands as a numpy array\n",
    "    bands_data = []\n",
    "    for i in range(1, src.count + 1):\n",
    "        band_data = src.read(i)\n",
    "        bands_data.append(band_data)\n",
    "    \n",
    "    # Stack bands into one numpy array\n",
    "    stacked_data = np.stack(bands_data, axis=-1)\n",
    "    # Generate variables later needed for creating masks\n",
    "    _, cropped_transform1 = mask(src, [mapping(aoi_polygon)], crop=False)\n",
    "    blue_height1, blue_width1 = src.shape    \n"
   ]
  },
  {
   "cell_type": "code",
   "execution_count": null,
   "id": "d830ff02-4967-40cc-a501-5144d2421c48",
   "metadata": {},
   "outputs": [],
   "source": [
    "stacked_data.shape"
   ]
  },
  {
   "cell_type": "code",
   "execution_count": null,
   "id": "51dba92c-5f95-4876-acfb-0b59b4e9b1f1",
   "metadata": {},
   "outputs": [],
   "source": [
    "import numpy as np\n",
    "\n",
    "# Count the total number of elements in the array\n",
    "total_elements = np.prod(stacked_data.shape)\n",
    "\n",
    "# Count the number of NaN values in the array\n",
    "nan_count = np.sum(np.isnan(stacked_data))\n",
    "\n",
    "# Calculate the percentage of NaN values\n",
    "percentage_nan = (nan_count / total_elements) * 100\n",
    "\n",
    "print(f\"Percentage of NaN values in stacked_data: {percentage_nan:.2f}%\")"
   ]
  },
  {
   "cell_type": "code",
   "execution_count": null,
   "id": "20a09b2c-b55f-413d-8101-6514bfc04242",
   "metadata": {},
   "outputs": [],
   "source": [
    "# Calculate the total number of elements\n",
    "total_elements = stacked_data.size\n",
    "\n",
    "# Count zero values\n",
    "num_zero_values = np.count_nonzero(stacked_data == 0)\n",
    "\n",
    "# Calculate the percentage of zero values\n",
    "percentage_zero_values = (num_zero_values / total_elements) * 100\n",
    "\n",
    "print(f\"Percentage of zero values: {percentage_zero_values:.2f}%\")"
   ]
  },
  {
   "cell_type": "code",
   "execution_count": null,
   "id": "73868d1c-bb91-40ec-b872-9d0d7c557bb4",
   "metadata": {},
   "outputs": [],
   "source": [
    "# Replace 'your_multiband_geotiff.tif' with the actual file path\n",
    "file_path2 = './GeoTIFsForSVM/AOI2c_2_B5_B8_B8A_med_Jan_GeoTIFF.tif'\n",
    "\n",
    "# Open the GeoTIFF file with rasterio\n",
    "with rio.open(file_path2) as src2:\n",
    "    # Read the geospatial metadata\n",
    "    geotransform2 = src2.transform\n",
    "    projection2 = src2.crs\n",
    "    \n",
    "    # Read all bands as a numpy array\n",
    "    bands_data2 = []\n",
    "    for i in range(1, src2.count + 1):\n",
    "        band_data2 = src2.read(i)\n",
    "        bands_data2.append(band_data2)\n",
    "    \n",
    "    # Stack bands into one numpy array\n",
    "    stacked_data2 = np.stack(bands_data2, axis=-1)\n",
    "    # Generate variables later needed for creating masks\n",
    "    _, cropped_transform2 = mask(src2, [mapping(aoi_polygon)], crop=False)\n",
    "    blue_height2, blue_width2 = src2.shape  "
   ]
  },
  {
   "cell_type": "code",
   "execution_count": null,
   "id": "a565fd51-cea3-4ca3-8a82-fb0501784982",
   "metadata": {},
   "outputs": [],
   "source": [
    "# Calculate the total number of elements\n",
    "total_elements = stacked_data2.size\n",
    "\n",
    "# Count zero values\n",
    "num_zero_values = np.count_nonzero(stacked_data2 == 0)\n",
    "\n",
    "# Calculate the percentage of zero values\n",
    "percentage_zero_values = (num_zero_values / total_elements) * 100\n",
    "\n",
    "print(f\"Percentage of zero values: {percentage_zero_values:.2f}%\")"
   ]
  },
  {
   "cell_type": "code",
   "execution_count": null,
   "id": "b9da35e1-e504-46e6-a783-68287afdfd61",
   "metadata": {},
   "outputs": [],
   "source": [
    "stacked_data2.shape"
   ]
  },
  {
   "cell_type": "code",
   "execution_count": null,
   "id": "5b4beb4c-ecb2-4377-97e2-417cd6b3b5d3",
   "metadata": {},
   "outputs": [],
   "source": [
    "# Count the total number of elements in the array\n",
    "total_elements = np.prod(stacked_data2.shape)\n",
    "\n",
    "# Count the number of NaN values in the array\n",
    "nan_count = np.sum(np.isnan(stacked_data2))\n",
    "\n",
    "# Calculate the percentage of NaN values\n",
    "percentage_nan = (nan_count / total_elements) * 100\n",
    "\n",
    "print(f\"Percentage of NaN values in stacked_data2: {percentage_nan:.2f}%\")"
   ]
  },
  {
   "cell_type": "markdown",
   "id": "89450bdc-4690-4c70-b38f-0940eec13622",
   "metadata": {},
   "source": [
    "#### Create land and seagrass masks"
   ]
  },
  {
   "cell_type": "code",
   "execution_count": null,
   "id": "9b2bc525-695b-4d14-aefc-a29d9a4809bf",
   "metadata": {},
   "outputs": [],
   "source": [
    "### seagrass mask\n",
    "\n",
    "seagrass_in_roi_1 = seagrass_in_roi_1.to_crs(projection) ## add needed final gdf here\n",
    "#blue_height, blue_width = stacked_data[1].shape\n",
    "#_, cropped_transform = mask(stacked_data[1], [mapping(aoi_polygon)], crop=False)\n",
    "final_mask_Posidonia = geometry_mask(seagrass_in_roi_1.geometry, out_shape=(blue_height1, blue_width1), transform=cropped_transform1, invert=True)"
   ]
  },
  {
   "cell_type": "code",
   "execution_count": null,
   "id": "d9048371-9df4-4db2-9ffd-008b164216aa",
   "metadata": {},
   "outputs": [],
   "source": [
    "final_mask_Posidonia.shape"
   ]
  },
  {
   "cell_type": "code",
   "execution_count": null,
   "id": "fee727fc-e511-4f2e-979e-3146f8bf30f3",
   "metadata": {},
   "outputs": [],
   "source": [
    "import matplotlib.pyplot as plt\n",
    "\n",
    "# Plot the binary mask\n",
    "plt.imshow(final_mask_Posidonia, cmap='gray')\n",
    "plt.title('Final Mask Posidonia')\n",
    "plt.colorbar()\n",
    "plt.show()"
   ]
  },
  {
   "cell_type": "code",
   "execution_count": null,
   "id": "f05de2ee-a6e7-4dca-aa1a-80b401d5ae95",
   "metadata": {},
   "outputs": [],
   "source": [
    "### seagrass mask\n",
    "\n",
    "gdf_largest = gdf_largest.to_crs(projection) ## add needed final gdf here\n",
    "#blue_height, blue_width = stacked_data[1].shape\n",
    "#_, cropped_transform = mask(stacked_data[1], [mapping(aoi_polygon)], crop=False)\n",
    "final_mask_Land = geometry_mask(gdf_largest.geometry, out_shape=(blue_height2, blue_width2), transform=cropped_transform2, invert=True)"
   ]
  },
  {
   "cell_type": "code",
   "execution_count": null,
   "id": "ef23efdd-8c68-4a55-bb79-41af19a77d88",
   "metadata": {},
   "outputs": [],
   "source": [
    "final_mask_Land.shape"
   ]
  },
  {
   "cell_type": "code",
   "execution_count": null,
   "id": "beb6fc8c-0139-4c3c-a224-3f0e287cabd0",
   "metadata": {},
   "outputs": [],
   "source": [
    "import matplotlib.pyplot as plt\n",
    "final_mask_Land = ~final_mask_Land # only use if needed\n",
    "\n",
    "# Plot the binary mask\n",
    "plt.imshow(final_mask_Land, cmap='gray')\n",
    "plt.title('Final Mask Land')\n",
    "plt.colorbar()\n",
    "plt.show()"
   ]
  },
  {
   "cell_type": "code",
   "execution_count": null,
   "id": "63b1e68f-32e7-4b72-8892-bed44ad8a1c3",
   "metadata": {},
   "outputs": [],
   "source": [
    "############################\n",
    "### important\n",
    "############################\n",
    "\n",
    "final_mask_water = ~(final_mask_Posidonia | final_mask_Land)"
   ]
  },
  {
   "cell_type": "code",
   "execution_count": null,
   "id": "338684ed-f57a-48a9-b2c2-a17a3f65c01a",
   "metadata": {},
   "outputs": [],
   "source": [
    "final_mask_water.shape"
   ]
  },
  {
   "cell_type": "code",
   "execution_count": null,
   "id": "e9656dba-e3a4-4a98-8a23-26f156ac4c17",
   "metadata": {},
   "outputs": [],
   "source": [
    "true_count = np.sum(final_mask_water)\n",
    "print(true_count)"
   ]
  },
  {
   "cell_type": "code",
   "execution_count": null,
   "id": "15bb05c6-17ae-4acc-8f40-b642bd597ba4",
   "metadata": {},
   "outputs": [],
   "source": [
    "import matplotlib.pyplot as plt\n",
    "\n",
    "# Plot the binary mask\n",
    "plt.imshow(final_mask_water, cmap='gray')\n",
    "plt.title('Final Water Mask')\n",
    "plt.colorbar()\n",
    "plt.show()"
   ]
  },
  {
   "cell_type": "markdown",
   "id": "535815c2-6be5-4f96-8cbd-a801c878e6bd",
   "metadata": {},
   "source": [
    "#### Split stacked numpy arrays into single bands"
   ]
  },
  {
   "cell_type": "code",
   "execution_count": null,
   "id": "e12b2639-cca2-4143-a381-b3620c0cdb0d",
   "metadata": {},
   "outputs": [],
   "source": [
    "coastal_cropped = stacked_data[:,:,0]\n",
    "blue_cropped = stacked_data[:,:,1]\n",
    "green_cropped = stacked_data[:,:,2]\n",
    "red_cropped = stacked_data[:,:,3]\n",
    "nir_cropped = stacked_data2[:,:,1]\n",
    "nir08_cropped = stacked_data2[:,:,2]\n",
    "rededge1_cropped = stacked_data2[:,:,0]"
   ]
  },
  {
   "cell_type": "code",
   "execution_count": null,
   "id": "dae540ec-4af4-4c85-81c3-05c1ccb23213",
   "metadata": {},
   "outputs": [],
   "source": [
    "### check\n",
    "\n",
    "# Count the total number of True values in the mask\n",
    "total_true_values = np.sum(final_mask_Posidonia)\n",
    "\n",
    "# Create a subarray containing only the elements corresponding to True values in the mask\n",
    "subarray_values = rededge1_cropped[final_mask_Posidonia]\n",
    "\n",
    "# Count the number of 0s in the subarray\n",
    "num_zeros = np.sum(subarray_values == 0)\n",
    "\n",
    "# Calculate the percentage of 0s relative to the total number of True values\n",
    "percentage_zeros = (num_zeros / total_true_values) * 100\n",
    "\n",
    "print(f\"Percentage of 0s among the elements corresponding to True values in the mask: {percentage_zeros:.2f}%\")"
   ]
  },
  {
   "cell_type": "code",
   "execution_count": null,
   "id": "ffd981cb-ffe7-4524-aec3-3199a5767334",
   "metadata": {},
   "outputs": [],
   "source": [
    "coastal_cropped.shape"
   ]
  },
  {
   "cell_type": "code",
   "execution_count": null,
   "id": "eb0f9f63-6a2b-478e-b095-d9b3d4ace422",
   "metadata": {},
   "outputs": [],
   "source": [
    "print(np.isnan(green_cropped).any())"
   ]
  },
  {
   "cell_type": "code",
   "execution_count": null,
   "id": "d9438a22-2e98-4d56-b035-dcd952b4e4b6",
   "metadata": {},
   "outputs": [],
   "source": [
    "nan_count = np.count_nonzero(np.isnan(coastal_cropped))\n",
    "\n",
    "print(\"Number of NaN values in blue_cropped3:\", nan_count)"
   ]
  },
  {
   "cell_type": "markdown",
   "id": "5799db5f-5f5f-4364-b0be-514695f16f55",
   "metadata": {},
   "source": [
    "### create numpy arrays that can be used for masking"
   ]
  },
  {
   "cell_type": "code",
   "execution_count": null,
   "id": "cf1e9d72-ca70-4b8b-8f8e-bf82a055d2f1",
   "metadata": {},
   "outputs": [],
   "source": [
    "coastal_cropped2 = stacked_data[:,:,0]\n",
    "blue_cropped2 = stacked_data[:,:,1]\n",
    "green_cropped2 = stacked_data[:,:,2]\n",
    "red_cropped2 = stacked_data[:,:,3]\n",
    "nir_cropped2 = stacked_data2[:,:,1]\n",
    "nir08_cropped2 = stacked_data2[:,:,2]\n",
    "rededge1_cropped2 = stacked_data2[:,:,0]\n",
    "\n",
    "coastal_cropped3 = stacked_data[:,:,0]\n",
    "blue_cropped3 = stacked_data[:,:,1]\n",
    "green_cropped3 = stacked_data[:,:,2]\n",
    "red_cropped3 = stacked_data[:,:,3]\n",
    "nir_cropped3 = stacked_data2[:,:,1]\n",
    "nir08_cropped3 = stacked_data2[:,:,2]\n",
    "rededge1_cropped3 = stacked_data2[:,:,0]"
   ]
  },
  {
   "cell_type": "code",
   "execution_count": null,
   "id": "10188f3c-5fe1-41df-9cbe-d38dcc451ee6",
   "metadata": {},
   "outputs": [],
   "source": [
    "blue_cropped4 = stacked_data[:,:,1]"
   ]
  },
  {
   "cell_type": "code",
   "execution_count": null,
   "id": "fb1a2f14-6eb0-4b4c-a534-5877a4fedc40",
   "metadata": {},
   "outputs": [],
   "source": [
    "nir_cropped3.shape"
   ]
  },
  {
   "cell_type": "code",
   "execution_count": null,
   "id": "ca16a0c9-3bd8-4494-99dc-8d75947a8a33",
   "metadata": {},
   "outputs": [],
   "source": [
    "nan_count = np.count_nonzero(np.isnan(rededge1_cropped3))\n",
    "\n",
    "print(\"Number of NaN values in nir_cropped3:\", nan_count)"
   ]
  },
  {
   "cell_type": "code",
   "execution_count": null,
   "id": "5db2bc55-2ea0-4806-97a7-9ebce8e64caf",
   "metadata": {},
   "outputs": [],
   "source": [
    "nan_count = np.count_nonzero(np.isnan(blue_cropped3))\n",
    "\n",
    "print(\"Number of NaN values in blue_cropped2:\", nan_count)"
   ]
  },
  {
   "cell_type": "markdown",
   "id": "06d548d0-d26f-4ff4-bf47-64e28b67f0bb",
   "metadata": {},
   "source": [
    "#### Option 2 (optional): read files with a mask"
   ]
  },
  {
   "cell_type": "code",
   "execution_count": null,
   "id": "3fe73741-daca-4b9e-bd0d-c301e65d5b29",
   "metadata": {},
   "outputs": [],
   "source": [
    "import rasterio as rio\n",
    "from rasterio.mask import mask\n",
    "from shapely.geometry import Polygon\n",
    "import geopandas as gpd\n",
    "\n",
    "# Define the path to the multiband GeoTIFF file\n",
    "tif_file = 'path_to_your_multiband_image.tif'\n",
    "\n",
    "# Convert AOI polygon to a GeoDataFrame\n",
    "aoi_gdf = gpd.GeoDataFrame(geometry=[non_overlapping_geometry])\n",
    "\n",
    "# Open the multiband GeoTIFF file using rasterio\n",
    "with rio.open(tif_file) as src:\n",
    "    # Get the CRS of the GeoTIFF file\n",
    "    tif_crs = src.crs\n",
    "\n",
    "    # Project AOI GeoDataFrame to the CRS of the GeoTIFF\n",
    "    aoi_gdf = aoi_gdf.to_crs(tif_crs)\n",
    "\n",
    "    # Convert AOI GeoDataFrame back to a shapely Polygon\n",
    "    aoi_polygon_projected = aoi_gdf['geometry'].iloc[0]\n",
    "\n",
    "    out_image_inside, transformed1 = mask(src, [aoi_polygon_projected], crop=True, filled=True)\n",
    "\n",
    "    # Invert the mask to keep pixels outside the AOI\n",
    "    out_image_outside, transformed2 = mask(src, [aoi_polygon_projected], crop=True, filled=True, invert=True)\n",
    "\n",
    "    # Print dimensions of the cropped image\n",
    "    print(\"Cropped image shape:\", out_image_inside.shape)\n",
    "\n",
    "    # Store geospatial metadata\n",
    "    geospatial_metadata = src.meta\n",
    "\n",
    "# Print the geospatial metadata\n",
    "print(\"Geospatial metadata:\", geospatial_metadata)"
   ]
  },
  {
   "cell_type": "markdown",
   "id": "37285dec-e6e6-43c2-9380-5e4dcb92727c",
   "metadata": {},
   "source": [
    "#### Now start calculating ratios and normalized differences for different regions (here using Option 1)"
   ]
  },
  {
   "cell_type": "code",
   "execution_count": null,
   "id": "b343f512-bc62-49ec-98c5-402162027a04",
   "metadata": {},
   "outputs": [],
   "source": [
    "blue_cropped2.shape"
   ]
  },
  {
   "cell_type": "code",
   "execution_count": null,
   "id": "57b2e384-0bd8-43d9-a1ec-96e8c7731323",
   "metadata": {},
   "outputs": [],
   "source": [
    "### only look on values within seagrass polygons:\n",
    "\n",
    "blue_cropped2[final_mask_Posidonia == False] = np.nan\n",
    "green_cropped2[final_mask_Posidonia == False] = np.nan\n",
    "red_cropped2[final_mask_Posidonia == False] = np.nan\n",
    "nir_cropped2[final_mask_Posidonia == False] = np.nan\n",
    "nir08_cropped2[final_mask_Posidonia == False] = np.nan\n",
    "rededge1_cropped2[final_mask_Posidonia == False] = np.nan\n",
    "coastal_cropped2[final_mask_Posidonia == False] = np.nan"
   ]
  },
  {
   "cell_type": "code",
   "execution_count": null,
   "id": "0a32bb4c-d4a1-4b00-a9d3-7c1e68bb8220",
   "metadata": {},
   "outputs": [],
   "source": [
    "### Divide single bands with each other to calculate RATIOS\n",
    "\n",
    "RB8B2 = np.divide(nir_cropped2, blue_cropped2)\n",
    "RB8B4 = np.divide(nir_cropped2, red_cropped2)\n",
    "RB2B1 = np.divide(blue_cropped2, coastal_cropped2)\n",
    "RB3B1 = np.divide(green_cropped2, coastal_cropped2)\n",
    "RB4B1 = np.divide(red_cropped2, coastal_cropped2)\n",
    "RB8AB8 = np.divide(nir08_cropped2, nir_cropped2)\n",
    "RB3B2 = np.divide(green_cropped2, blue_cropped2)\n",
    "RB5B4 = np.divide(rededge1_cropped2, red_cropped2)"
   ]
  },
  {
   "cell_type": "code",
   "execution_count": null,
   "id": "8336bb24-7444-4258-9391-f7868395c327",
   "metadata": {},
   "outputs": [],
   "source": [
    "### plot histograms\n",
    "import matplotlib.pyplot as plt\n",
    "\n",
    "plt.hist(RB5B4.flatten(), bins=50, color='blue', alpha=0.5, label='RB5B4')\n",
    "#plt.hist(red_nir_ratio.flatten(), bins=50, color='red', alpha=0.5, label='Red/NIR Ratio')\n",
    "# and so on for other ratios\n",
    "\n",
    "plt.xlabel('Ratio Values')\n",
    "plt.ylabel('Frequency')\n",
    "plt.title('Histogram of Ratio Values')\n",
    "plt.legend()\n",
    "plt.show()"
   ]
  },
  {
   "cell_type": "code",
   "execution_count": null,
   "id": "a79b0f50-100d-4c14-95fd-17292b548a43",
   "metadata": {},
   "outputs": [],
   "source": [
    "print(np.nanmean(RB8B2), np.nanmean(RB8B4), np.nanmean(RB2B1), np.nanmean(RB4B1), np.nanmean(RB8AB8), np.nanmean(RB3B2), np.nanmean(RB5B4), np.nanmean(RB3B1)) "
   ]
  },
  {
   "cell_type": "code",
   "execution_count": null,
   "id": "7008e671-8a61-4a19-bdbe-e11c30162630",
   "metadata": {},
   "outputs": [],
   "source": [
    "print(np.nanstd(RB8B2), np.nanstd(RB8B4), np.nanstd(RB2B1), np.nanstd(RB4B1), np.nanstd(RB8AB8), np.nanstd(RB3B2), np.nanstd(RB5B4), np.nanstd(RB3B1)) "
   ]
  },
  {
   "cell_type": "code",
   "execution_count": null,
   "id": "d5c936ff-6581-480e-970c-9f18e3119975",
   "metadata": {},
   "outputs": [],
   "source": [
    "### Calculate the NORMALIZED DIFFERENCE between bands\n",
    "\n",
    "ndB8B2 = (nir_cropped2 - blue_cropped2) / (nir_cropped2 + blue_cropped2)\n",
    "ndB8B4 = (nir_cropped2 - red_cropped2) / (nir_cropped2 + red_cropped2)\n",
    "ndB2B1 = (blue_cropped2 - coastal_cropped2) / (blue_cropped2 + coastal_cropped2)\n",
    "ndB3B1 = (green_cropped2 - coastal_cropped2) / (green_cropped2 + coastal_cropped2)\n",
    "ndB4B1 = (red_cropped2 - coastal_cropped2) / (red_cropped2 + coastal_cropped2)\n",
    "ndB8AB8 = (nir08_cropped2 - nir_cropped2) / (nir08_cropped2 + nir_cropped2)\n",
    "ndB3B2 = (green_cropped2 - blue_cropped2) / (green_cropped2 + blue_cropped2)\n",
    "ndB5B4 = (rededge1_cropped2 - red_cropped2) / (rededge1_cropped2 + red_cropped2)"
   ]
  },
  {
   "cell_type": "code",
   "execution_count": null,
   "id": "d2c72f53-11ce-43c9-8ef4-74082a42fb50",
   "metadata": {},
   "outputs": [],
   "source": [
    "### plot histograms\n",
    "import matplotlib.pyplot as plt\n",
    "\n",
    "plt.hist(ndB5B4.flatten(), bins=50, color='blue', alpha=0.5, label='ndB5B4')\n",
    "#plt.hist(red_nir_ratio.flatten(), bins=50, color='red', alpha=0.5, label='Red/NIR Ratio')\n",
    "# and so on for other ratios\n",
    "\n",
    "plt.xlabel('Ratio Values')\n",
    "plt.ylabel('Frequency')\n",
    "plt.title('Histogram of Ratio Values')\n",
    "plt.legend()\n",
    "plt.show()"
   ]
  },
  {
   "cell_type": "code",
   "execution_count": null,
   "id": "ee76450b-67f0-45ed-99af-bb481ff4a519",
   "metadata": {},
   "outputs": [],
   "source": [
    "print(np.nanmean(ndB8B2), np.nanmean(ndB8B4), np.nanmean(ndB2B1), np.nanmean(ndB4B1), np.nanmean(ndB8AB8), np.nanmean(ndB3B2), np.nanmean(ndB5B4), np.nanmean(ndB3B1)) "
   ]
  },
  {
   "cell_type": "code",
   "execution_count": null,
   "id": "28753e02-db64-4314-b3c3-19b5bedb8cf0",
   "metadata": {},
   "outputs": [],
   "source": [
    "print(np.nanstd(ndB8B2), np.nanstd(ndB8B4), np.nanstd(ndB2B1), np.nanstd(ndB4B1), np.nanstd(ndB8AB8), np.nanstd(ndB3B2), np.nanstd(ndB5B4), np.nanstd(ndB3B1)) "
   ]
  },
  {
   "cell_type": "markdown",
   "id": "8225f650-5bf2-4a3b-a283-784451410899",
   "metadata": {},
   "source": [
    "#### look on water pixels supposedly without seagrass"
   ]
  },
  {
   "cell_type": "code",
   "execution_count": null,
   "id": "e4421a98-e943-4552-953f-35e3ec2109c4",
   "metadata": {},
   "outputs": [],
   "source": [
    "blue_cropped3[final_mask_water == False] = np.nan\n",
    "green_cropped3[final_mask_water == False] = np.nan\n",
    "red_cropped3[final_mask_water == False] = np.nan\n",
    "nir_cropped3[final_mask_water == False] = np.nan\n",
    "nir08_cropped3[final_mask_water == False] = np.nan\n",
    "rededge1_cropped3[final_mask_water == False] = np.nan\n",
    "coastal_cropped3[final_mask_water == False] = np.nan"
   ]
  },
  {
   "cell_type": "code",
   "execution_count": null,
   "id": "6a8d069f-2ba7-4e9e-bd49-ea61500cbbc5",
   "metadata": {},
   "outputs": [],
   "source": [
    "blue_cropped3[final_mask_Land == False] = np.nan"
   ]
  },
  {
   "cell_type": "code",
   "execution_count": null,
   "id": "87efe026-c4a5-434c-beda-a1455589cad3",
   "metadata": {},
   "outputs": [],
   "source": [
    "total_count = np.size(blue_cropped)\n",
    "\n",
    "print(\"Total number of values in blue_cropped3:\", total_count)"
   ]
  },
  {
   "cell_type": "code",
   "execution_count": null,
   "id": "88725256-1a49-4af1-8c4c-f3a9a4a9b85f",
   "metadata": {},
   "outputs": [],
   "source": [
    "nan_count = np.count_nonzero(np.isnan(blue_cropped))\n",
    "\n",
    "print(\"Number of NaN values in blue_cropped3:\", nan_count)"
   ]
  },
  {
   "cell_type": "code",
   "execution_count": null,
   "id": "6417e7ab-58c5-4a89-a877-dff7d542b758",
   "metadata": {},
   "outputs": [],
   "source": [
    "blue_cropped3.shape"
   ]
  },
  {
   "cell_type": "code",
   "execution_count": null,
   "id": "266e51a0-43ce-4067-8a8d-8013d08b2e55",
   "metadata": {},
   "outputs": [],
   "source": [
    "### Divide single bands with each other to calculate RATIOS\n",
    "\n",
    "RB8B2 = np.divide(nir_cropped3, blue_cropped3)\n",
    "RB8B4 = np.divide(nir_cropped3, red_cropped3)\n",
    "RB2B1 = np.divide(blue_cropped3, coastal_cropped3)\n",
    "RB3B1 = np.divide(green_cropped3, coastal_cropped3)\n",
    "RB4B1 = np.divide(red_cropped3, coastal_cropped3)\n",
    "RB8AB8 = np.divide(nir08_cropped3, nir_cropped3)\n",
    "RB3B2 = np.divide(green_cropped3, blue_cropped3)\n",
    "RB5B4 = np.divide(rededge1_cropped3, red_cropped3)"
   ]
  },
  {
   "cell_type": "code",
   "execution_count": null,
   "id": "d38a9a45-47e7-4b7b-a6ab-fdff7a8e77d7",
   "metadata": {},
   "outputs": [],
   "source": [
    "nan_count = np.count_nonzero(np.isnan(RB5B4))\n",
    "\n",
    "print(\"Number of NaN values in RB8B2:\", nan_count)"
   ]
  },
  {
   "cell_type": "code",
   "execution_count": null,
   "id": "42ba74a4-49f4-4c6d-88c2-8455221e96b1",
   "metadata": {},
   "outputs": [],
   "source": [
    "### plot histograms\n",
    "import matplotlib.pyplot as plt\n",
    "\n",
    "plt.figure(figsize=(4,3))\n",
    "plt.hist(RB3B1.flatten(), bins=50, color='blue', alpha=0.5, label='RB3B1')\n",
    "#plt.hist(red_nir_ratio.flatten(), bins=50, color='red', alpha=0.5, label='Red/NIR Ratio')\n",
    "# and so on for other ratios\n",
    "\n",
    "plt.xlabel('Ratio Values')\n",
    "plt.ylabel('Frequency')\n",
    "plt.title('Histogram of Ratio Values')\n",
    "plt.legend()\n",
    "plt.show()"
   ]
  },
  {
   "cell_type": "code",
   "execution_count": null,
   "id": "e05c919b-077b-4393-afd1-1b480c2b1b3a",
   "metadata": {},
   "outputs": [],
   "source": [
    "print(np.nanmean(RB8B2), np.nanmean(RB8B4), np.nanmean(RB2B1), np.nanmean(RB4B1), np.nanmean(RB8AB8), np.nanmean(RB3B2), np.nanmean(RB5B4), np.nanmean(RB3B1)) "
   ]
  },
  {
   "cell_type": "code",
   "execution_count": null,
   "id": "726a067a-4775-4970-8935-6f407610a715",
   "metadata": {},
   "outputs": [],
   "source": [
    "print(np.nanstd(RB8B2), np.nanstd(RB8B4), np.nanstd(RB2B1), np.nanstd(RB4B1), np.nanstd(RB8AB8), np.nanstd(RB3B2), np.nanstd(RB5B4), np.nanstd(RB3B1)) "
   ]
  },
  {
   "cell_type": "code",
   "execution_count": null,
   "id": "dd546bf7-8c88-4a75-851f-9a7d16e8c2d9",
   "metadata": {},
   "outputs": [],
   "source": [
    "### Calculate the NORMALIZED DIFFERENCE between bands\n",
    "\n",
    "ndB8B2 = (nir_cropped3 - blue_cropped3) / (nir_cropped3 + blue_cropped3)\n",
    "ndB8B4 = (nir_cropped3 - red_cropped3) / (nir_cropped3 + red_cropped3)\n",
    "ndB2B1 = (blue_cropped3 - coastal_cropped3) / (blue_cropped3 + coastal_cropped3)\n",
    "ndB3B1 = (green_cropped3 - coastal_cropped3) / (green_cropped3 + coastal_cropped3)\n",
    "ndB4B1 = (red_cropped3 - coastal_cropped3) / (red_cropped3 + coastal_cropped3)\n",
    "ndB8AB8 = (nir08_cropped3 - nir_cropped3) / (nir08_cropped3 + nir_cropped3)\n",
    "ndB3B2 = (green_cropped3 - blue_cropped3) / (green_cropped3 + blue_cropped3)\n",
    "ndB5B4 = (rededge1_cropped3 - red_cropped3) / (rededge1_cropped3 + red_cropped3)"
   ]
  },
  {
   "cell_type": "code",
   "execution_count": null,
   "id": "1d00776c-8189-40c2-b7a3-11c79ecf224f",
   "metadata": {},
   "outputs": [],
   "source": [
    "### plot histograms\n",
    "import matplotlib.pyplot as plt\n",
    "\n",
    "plt.figure(figsize=(4,3))\n",
    "plt.hist(ndB5B4.flatten(), bins=50, color='blue', alpha=0.5, label='ndB5B4')\n",
    "#plt.hist(red_nir_ratio.flatten(), bins=50, color='red', alpha=0.5, label='Red/NIR Ratio')\n",
    "# and so on for other ratios\n",
    "\n",
    "#plt.xlabel('Ratio Values')\n",
    "#plt.ylabel('Frequency')\n",
    "plt.title('Histogram of Ratio Values')\n",
    "plt.legend()\n",
    "plt.show()"
   ]
  },
  {
   "cell_type": "code",
   "execution_count": null,
   "id": "5315aaad-3d50-4240-8f5a-e8562d42f5f1",
   "metadata": {},
   "outputs": [],
   "source": [
    "print(np.nanmean(ndB8B2), np.nanmean(ndB8B4), np.nanmean(ndB2B1), np.nanmean(ndB4B1), np.nanmean(ndB8AB8), np.nanmean(ndB3B2), np.nanmean(ndB5B4), np.nanmean(ndB3B1)) "
   ]
  },
  {
   "cell_type": "code",
   "execution_count": null,
   "id": "f3ac9872-8c47-44a1-92d9-88f9697c15c8",
   "metadata": {},
   "outputs": [],
   "source": [
    "print(np.nanstd(ndB8B2), np.nanstd(ndB8B4), np.nanstd(ndB2B1), np.nanstd(ndB4B1), np.nanstd(ndB8AB8), np.nanstd(ndB3B2), np.nanstd(ndB5B4), np.nanstd(ndB3B1)) "
   ]
  },
  {
   "cell_type": "markdown",
   "id": "a770d80f-7479-4ad4-a4d9-7b7369b86653",
   "metadata": {},
   "source": [
    "####"
   ]
  },
  {
   "cell_type": "markdown",
   "id": "508bde89-9bef-4f99-a4d0-6f87cf719cb3",
   "metadata": {},
   "source": [
    "# Part 3: Pixel-level classification with your bands"
   ]
  },
  {
   "cell_type": "code",
   "execution_count": null,
   "id": "f93107a9-82fa-4d46-a038-5537c81632d1",
   "metadata": {},
   "outputs": [],
   "source": [
    "# Find the minimum non-zero value in the arrays\n",
    "min_nonzero_value = np.min(np.where(nir_cropped != 0, nir_cropped, np.inf))\n",
    "\n",
    "# Replace zero values with a fraction of the minimum non-zero value\n",
    "fraction = 0.1\n",
    "\n",
    "coastal_cropped = np.where(nir_cropped == 0, min_nonzero_value * fraction, coastal_cropped)\n",
    "blue_cropped = np.where(nir_cropped == 0, min_nonzero_value * fraction, blue_cropped)\n",
    "green_cropped = np.where(nir_cropped == 0, min_nonzero_value * fraction, green_cropped)\n",
    "red_cropped = np.where(nir_cropped == 0, min_nonzero_value * fraction, red_cropped)\n",
    "nir_cropped = np.where(nir_cropped == 0, min_nonzero_value * fraction, nir_cropped)\n",
    "nir08_cropped = np.where(nir_cropped == 0, min_nonzero_value * fraction, nir08_cropped)\n",
    "rededge1_cropped = np.where(nir_cropped == 0, min_nonzero_value * fraction, rededge1_cropped)"
   ]
  },
  {
   "cell_type": "code",
   "execution_count": null,
   "id": "8bce9aa0-03e6-4343-908e-01c52c4221c6",
   "metadata": {},
   "outputs": [],
   "source": [
    "ndB8B2 = (nir_cropped - blue_cropped) / (nir_cropped + blue_cropped)\n",
    "ndB8B4 = (nir_cropped - red_cropped) / (nir_cropped + red_cropped)\n",
    "ndB2B1 = (blue_cropped - coastal_cropped) / (blue_cropped + coastal_cropped)\n",
    "ndB3B1 = (green_cropped - coastal_cropped) / (green_cropped + coastal_cropped)\n",
    "ndB4B1 = (red_cropped - coastal_cropped) / (red_cropped + coastal_cropped)\n",
    "ndB8AB8 = (nir08_cropped - nir_cropped) / (nir08_cropped + nir_cropped)\n",
    "ndB3B2 = (green_cropped - blue_cropped) / (green_cropped + blue_cropped)\n",
    "ndB5B4 = (rededge1_cropped - red_cropped) / (rededge1_cropped + red_cropped)"
   ]
  },
  {
   "cell_type": "code",
   "execution_count": null,
   "id": "df359c94-4d50-49de-809a-63206a2a366b",
   "metadata": {},
   "outputs": [],
   "source": [
    "print(ndB8B2.shape)\n",
    "print(ndB3B1.shape)\n",
    "print(ndB5B4.shape)\n",
    "print(ndB3B2.shape)"
   ]
  },
  {
   "cell_type": "code",
   "execution_count": null,
   "id": "5fbddc50-35ec-46dd-95d7-67b959429443",
   "metadata": {},
   "outputs": [],
   "source": [
    "# Count the total number of elements in the array\n",
    "total_elements = np.prod(ndB5B4.shape)\n",
    "\n",
    "# Count the number of NaN values\n",
    "nan_count = np.sum(np.isnan(ndB5B4))\n",
    "\n",
    "# Calculate the percentage of NaN values\n",
    "percentage_nan = (nan_count / total_elements) * 100\n",
    "\n",
    "print(f\"Percentage of NaN values in ndB5B4: {nan_count}\")"
   ]
  },
  {
   "cell_type": "code",
   "execution_count": null,
   "id": "4d4c7ae5-578c-4518-a4cf-67939595d463",
   "metadata": {},
   "outputs": [],
   "source": [
    "# Substitute NaN values with 0\n",
    "ndB5B4_no_nan = np.nan_to_num(ndB5B4, nan=0)"
   ]
  },
  {
   "cell_type": "code",
   "execution_count": null,
   "id": "a118ea0d-b4d7-41fa-a434-67841c5757e7",
   "metadata": {},
   "outputs": [],
   "source": [
    "# Create a Boolean mask indicating where final_mask_Posidonia is True and coastal_cropped contains NaN values\n",
    "nan_mask = np.logical_and(final_mask_water, np.isnan(ndB5B4))\n",
    "\n",
    "# Count the number of True values in the combined mask\n",
    "nan_count = np.sum(nan_mask)\n",
    "\n",
    "# Count the total number of True values in final_mask_Posidonia\n",
    "total_count = np.sum(final_mask_water)\n",
    "\n",
    "# Calculate the percentage\n",
    "percentage_nan_in_Posidonia = (nan_count / total_count) * 100\n",
    "\n",
    "print(f\"Percentage of True values in final_mask_Posidonia that correspond to NaN values in coastal_cropped: {percentage_nan_in_Posidonia:.2f}%\")"
   ]
  },
  {
   "cell_type": "code",
   "execution_count": null,
   "id": "c66cca54-3ff8-449a-a653-77039069ceeb",
   "metadata": {},
   "outputs": [],
   "source": [
    "import numpy as np\n",
    "\n",
    "# Check for NaN values in X_train\n",
    "nan_indices_train = np.isnan(ndB3B2).any(axis=1)\n",
    "if np.any(nan_indices_train):\n",
    "    print(\"NaN values found in X_train\")\n",
    "\n",
    "# Check for infinity values in X_train\n",
    "inf_indices_train = np.isinf(ndB3B2).any(axis=1)\n",
    "if np.any(inf_indices_train):\n",
    "    print(\"Infinity values found in X_train\")\n",
    "\n",
    "# Check for NaN values in X_test\n",
    "nan_indices_test = np.isnan(ndB3B2).any(axis=1)\n",
    "if np.any(nan_indices_test):\n",
    "    print(\"NaN values found in X_test\")\n",
    "\n",
    "# Check for infinity values in X_test\n",
    "inf_indices_test = np.isinf(ndB3B2).any(axis=1)\n",
    "if np.any(inf_indices_test):\n",
    "    print(\"Infinity values found in X_test\")\n"
   ]
  },
  {
   "cell_type": "markdown",
   "id": "8102973e-7660-4e26-a7e5-a46bbb890de1",
   "metadata": {},
   "source": [
    "#### first SVM with 3 classes:"
   ]
  },
  {
   "cell_type": "code",
   "execution_count": null,
   "id": "0d475112-6864-4aad-861f-86e6badce7e7",
   "metadata": {},
   "outputs": [],
   "source": [
    "from sklearnex import patch_sklearn\n",
    "patch_sklearn()\n",
    "from sklearn import svm\n",
    "from sklearn.model_selection import train_test_split\n",
    "from sklearn.metrics import accuracy_score\n",
    "\n",
    "mask_class0 = final_mask_Posidonia\n",
    "mask_class1 = final_mask_water\n",
    "mask_class2 = final_mask_Land\n",
    " \n",
    "# Flatten masks\n",
    "mask_class0_flat = mask_class0.ravel()\n",
    "mask_class1_flat = mask_class1.ravel()\n",
    "mask_class2_flat = mask_class2.ravel()\n",
    "\n",
    "# Initialize y with zeros\n",
    "y = np.zeros_like(mask_class0_flat, dtype=int)\n",
    "\n",
    "# Assign class labels based on flattened masks\n",
    "y[mask_class2_flat] = 2\n",
    "y[mask_class1_flat] = 1\n",
    "\n",
    "#y = np.zeros_like(mask_class0_flat, dtype=int)\n",
    "# Flatten the band\n",
    "#band_of_interest_flat = ndB3B2.ravel()\n",
    "\n",
    "# Assign class labels based on the flattened band\n",
    "#y[band_of_interest_flat == 300] = 3  # Assign placeholder value 300 to a new class, e.g., class 3\n",
    "#y[mask_class2_flat] = 2\n",
    "#y[mask_class1_flat] = 1\n",
    "\n",
    "# Stack bands to create feature vectors\n",
    "X = np.stack((\n",
    "    ndB8B2.reshape(-1),\n",
    "    ndB3B1.reshape(-1),\n",
    "    ndB5B4_no_nan.reshape(-1),\n",
    "    ndB3B2.reshape(-1)\n",
    "), axis=1)\n",
    "\n",
    "# Split data into train and test sets\n",
    "X_train, X_test, y_train, y_test = train_test_split(X, y, test_size=0.2, random_state=42)\n",
    "\n",
    "# Find indices of NaN values in X_train\n",
    "#nan_indices = np.isnan(X_train).any(axis=1)\n",
    "\n",
    "# Remove samples with NaN values\n",
    "#X_train = X_train[~nan_indices]\n",
    "#y_train = y_train[~nan_indices]\n",
    "\n",
    "# Train SVM with RBF kernel\n",
    "clf = svm.SVC(kernel='rbf', decision_function_shape='ovr')  # One-vs-Rest strategy\n",
    "clf.fit(X_train, y_train)\n",
    "\n",
    "# Find indices of NaN values in X_train\n",
    "#nan_indices2 = np.isnan(X_test).any(axis=1)\n",
    "\n",
    "# Remove samples with NaN values\n",
    "#X_train = X_test[~nan_indices2]\n",
    "#y_test = y_test[~nan_indices2]\n",
    "\n",
    "# Make predictions\n",
    "y_pred = clf.predict(X_test)\n",
    "\n",
    "# Evaluate accuracy\n",
    "accuracy = accuracy_score(y_test, y_pred)\n",
    "print(\"Accuracy:\", accuracy)"
   ]
  },
  {
   "cell_type": "code",
   "execution_count": null,
   "id": "ec512634-e5f5-4cd4-9ec2-d39db3aff473",
   "metadata": {},
   "outputs": [],
   "source": [
    "### check if sth goes wrong\n",
    "\n",
    "import numpy as np\n",
    "\n",
    "# Check for NaN values in X_train\n",
    "nan_indices_train = np.isnan(X_train).any(axis=1)\n",
    "if np.any(nan_indices_train):\n",
    "    print(\"NaN values found in X_train\")\n",
    "\n",
    "# Check for infinity values in X_train\n",
    "inf_indices_train = np.isinf(X_train).any(axis=1)\n",
    "if np.any(inf_indices_train):\n",
    "    print(\"Infinity values found in X_train\")\n",
    "\n",
    "# Check for NaN values in X_test\n",
    "nan_indices_test = np.isnan(X_test).any(axis=1)\n",
    "if np.any(nan_indices_test):\n",
    "    print(\"NaN values found in X_test\")\n",
    "\n",
    "# Check for infinity values in X_test\n",
    "inf_indices_test = np.isinf(X_test).any(axis=1)\n",
    "if np.any(inf_indices_test):\n",
    "    print(\"Infinity values found in X_test\")\n"
   ]
  },
  {
   "cell_type": "code",
   "execution_count": null,
   "id": "3444a724-1ee7-4310-9347-f53b51feeace",
   "metadata": {},
   "outputs": [],
   "source": [
    "from sklearn.metrics import accuracy_score\n",
    "\n",
    "# Assume y_test and y_pred contain the true and predicted labels respectively\n",
    "\n",
    "# Create a boolean mask for instances where the true labels are class 0\n",
    "mask_class_0 = (y_test == 0)\n",
    "\n",
    "# Filter the true labels and predicted labels using the mask for class 0\n",
    "y_test_class_0 = y_test[mask_class_0]\n",
    "y_pred_class_0 = y_pred[mask_class_0]\n",
    "\n",
    "# Calculate accuracy for class 0\n",
    "accuracy_class_0 = accuracy_score(y_test_class_0, y_pred_class_0)\n",
    "print(\"Accuracy for class 0:\", accuracy_class_0)"
   ]
  },
  {
   "cell_type": "code",
   "execution_count": null,
   "id": "a67ee356-8f1a-4864-b0d6-2f0f9f3f7c2b",
   "metadata": {},
   "outputs": [],
   "source": [
    "# Define original_image as your input bands stacked along the first axis\n",
    "original_image = np.stack((\n",
    "    ndB8B2,\n",
    "    ndB3B1,\n",
    "    ndB5B4,\n",
    "    ndB3B2\n",
    "), axis=2)  # Change axis to 2 for RGB image\n",
    "\n",
    "# Re-predict using the entire dataset X\n",
    "y_pred_full = clf.predict(X)\n",
    "\n",
    "# Reshape y_pred_full to match the shape of original_image\n",
    "predicted_labels_image = y_pred_full.reshape(original_image.shape[:2])\n",
    "\n",
    "# Plot the segmented image\n",
    "plt.figure(figsize=(8, 6))\n",
    "plt.imshow(predicted_labels_image, cmap='viridis')  # You can choose any colormap you prefer\n",
    "plt.colorbar(label='Class')\n",
    "plt.title('Segmented Image')\n",
    "plt.xlabel('Width')\n",
    "plt.ylabel('Height')\n",
    "plt.show()"
   ]
  },
  {
   "cell_type": "markdown",
   "id": "9274a777-ff47-40cd-9b6b-c770dea02850",
   "metadata": {},
   "source": [
    "#### Let's perform XGBOOST with 3 classes"
   ]
  },
  {
   "cell_type": "code",
   "execution_count": null,
   "id": "e783ff09-f259-4b52-95da-fddb1ea67b4f",
   "metadata": {},
   "outputs": [],
   "source": [
    "from sklearnex import patch_sklearn\n",
    "patch_sklearn()\n",
    "import numpy as np\n",
    "import xgboost as xgb\n",
    "from sklearn.model_selection import train_test_split\n",
    "from sklearn.metrics import accuracy_score\n",
    "\n",
    "mask_class0 = final_mask_Posidonia\n",
    "mask_class1 = final_mask_water\n",
    "mask_class2 = final_mask_Land\n",
    "\n",
    "# Flatten masks\n",
    "mask_class0_flat = mask_class0.ravel()\n",
    "mask_class1_flat = mask_class1.ravel()\n",
    "mask_class2_flat = mask_class2.ravel()\n",
    "\n",
    "# Initialize y with zeros\n",
    "y = np.zeros_like(mask_class0_flat, dtype=int)\n",
    "\n",
    "# Assign class labels based on flattened masks\n",
    "y[mask_class2_flat] = 2\n",
    "y[mask_class1_flat] = 1\n",
    "\n",
    "# Stack bands to create feature vectors\n",
    "X = np.stack((\n",
    "    ndB8B2.reshape(-1),\n",
    "    ndB3B1.reshape(-1),\n",
    "    ndB5B4_no_nan.reshape(-1),\n",
    "    ndB3B2.reshape(-1)\n",
    "), axis=1)\n",
    "\n",
    "# Split data into train and test sets\n",
    "X_train, X_test, y_train, y_test = train_test_split(X, y, test_size=0.2, random_state=42)\n",
    "\n",
    "# Convert data into DMatrix format for XGBoost\n",
    "dtrain = xgb.DMatrix(X_train, label=y_train)\n",
    "dtest = xgb.DMatrix(X_test, label=y_test)\n",
    "\n",
    "# Set parameters for XGBoost\n",
    "param = {\n",
    "    'max_depth': 3,  # maximum depth of a tree\n",
    "    'objective': 'multi:softmax',  # multi-class classification\n",
    "    'num_class': 3,  # number of classes\n",
    "    'eta': 0.3,  # learning rate\n",
    "}\n",
    "\n",
    "# Train the model\n",
    "num_round = 100  # number of boosting rounds\n",
    "bst = xgb.train(param, dtrain, num_round)\n",
    "\n",
    "# Make predictions\n",
    "preds = bst.predict(dtest)\n",
    "\n",
    "# Evaluate accuracy\n",
    "accuracy = accuracy_score(y_test, preds)\n",
    "print(\"Accuracy:\", accuracy)\n"
   ]
  },
  {
   "cell_type": "code",
   "execution_count": null,
   "id": "bcfd903e-20e4-4c0d-ab04-1f410d44fd2f",
   "metadata": {},
   "outputs": [],
   "source": [
    "from sklearn.metrics import accuracy_score\n",
    "\n",
    "# Assume y_test and y_pred contain the true and predicted labels respectively\n",
    "\n",
    "# Create a boolean mask for instances where the true labels are class 0\n",
    "mask_class_0 = (y_test == 0)\n",
    "\n",
    "# Filter the true labels and predicted labels using the mask for class 0\n",
    "y_test_class_0 = y_test[mask_class_0]\n",
    "y_pred_class_0 = y_pred[mask_class_0]\n",
    "\n",
    "# Calculate accuracy for class 0\n",
    "accuracy_class_0 = accuracy_score(y_test_class_0, y_pred_class_0)\n",
    "print(\"Accuracy for class 0:\", accuracy_class_0)"
   ]
  },
  {
   "cell_type": "code",
   "execution_count": null,
   "id": "8cc59b2c-66ee-411d-a6c9-f42e85adf7a6",
   "metadata": {},
   "outputs": [],
   "source": [
    "from sklearnex import patch_sklearn\n",
    "patch_sklearn()\n",
    "# Define original_image as your input bands stacked along the first axis\n",
    "original_image = np.stack((\n",
    "    ndB8B2,\n",
    "    ndB3B1,\n",
    "    ndB5B4,\n",
    "    ndB3B2\n",
    "), axis=2)  # Change axis to 2 for RGB image\n",
    "\n",
    "# Re-predict using the entire dataset X\n",
    "y_pred_full = xgb.predict(X)\n",
    "\n",
    "# Reshape y_pred_full to match the shape of original_image\n",
    "predicted_labels_image = y_pred_full.reshape(original_image.shape[:2])\n",
    "\n",
    "# Plot the segmented image\n",
    "plt.figure(figsize=(8, 6))\n",
    "plt.imshow(predicted_labels_image, cmap='viridis')  # You can choose any colormap you prefer\n",
    "plt.colorbar(label='Class')\n",
    "plt.title('Segmented Image')\n",
    "plt.xlabel('Width')\n",
    "plt.ylabel('Height')\n",
    "plt.show()"
   ]
  },
  {
   "cell_type": "markdown",
   "id": "e0a422aa-60b8-4bed-9eba-96e4258ee61b",
   "metadata": {},
   "source": [
    "#### Finally perform Random Forest with 3 classes"
   ]
  },
  {
   "cell_type": "code",
   "execution_count": null,
   "id": "ef821b1a-c336-4d2f-b85c-da221f250e4c",
   "metadata": {},
   "outputs": [],
   "source": [
    "from sklearnex import patch_sklearn\n",
    "patch_sklearn()\n",
    "import numpy as np\n",
    "from sklearn.ensemble import RandomForestClassifier\n",
    "from sklearn.model_selection import train_test_split\n",
    "from sklearn.metrics import accuracy_score\n",
    "\n",
    "mask_class0 = final_mask_Posidonia\n",
    "mask_class1 = final_mask_water\n",
    "mask_class2 = final_mask_Land\n",
    "\n",
    "# Flatten masks\n",
    "mask_class0_flat = mask_class0.ravel()\n",
    "mask_class1_flat = mask_class1.ravel()\n",
    "mask_class2_flat = mask_class2.ravel()\n",
    "\n",
    "# Initialize y with zeros\n",
    "y = np.zeros_like(mask_class0_flat, dtype=int)\n",
    "\n",
    "# Assign class labels based on flattened masks\n",
    "y[mask_class2_flat] = 2\n",
    "y[mask_class1_flat] = 1\n",
    "\n",
    "# Stack bands to create feature vectors\n",
    "#X = np.stack((\n",
    "#    ndB8B2.reshape(-1),\n",
    "#    ndB3B1.reshape(-1),\n",
    "#    ndB5B4.reshape(-1),\n",
    "#    ndB3B2.reshape(-1)\n",
    "#), axis=1)\n",
    "\n",
    "#X = np.stack((\n",
    "#    nir_cropped.reshape(-1),\n",
    "#    blue_cropped.reshape(-1),\n",
    "#    red_cropped.reshape(-1),\n",
    "#    green_cropped.reshape(-1),\n",
    "#    coastal_cropped.reshape(-1)\n",
    "#), axis=1)\n",
    "\n",
    "X = np.stack((\n",
    "    blue_cropped.reshape(-1),\n",
    "    red_cropped.reshape(-1),\n",
    "    green_cropped.reshape(-1),\n",
    "), axis=1)\n",
    "\n",
    "# Split data into train and test sets\n",
    "X_train, X_test, y_train, y_test = train_test_split(X, y, test_size=0.2, random_state=42)\n",
    "\n",
    "# Initialize Random Forest Classifier\n",
    "rf_classifier = RandomForestClassifier(n_estimators=100, random_state=42)\n",
    "\n",
    "# Train the model\n",
    "rf_classifier.fit(X_train, y_train)\n",
    "\n",
    "# Make predictions\n",
    "y_pred = rf_classifier.predict(X_test)\n",
    "\n",
    "# Evaluate accuracy\n",
    "accuracy = accuracy_score(y_test, y_pred)\n",
    "print(\"Accuracy:\", accuracy)\n"
   ]
  },
  {
   "cell_type": "code",
   "execution_count": null,
   "id": "70c11eef-8616-49dc-ae6f-49ad4759e0cd",
   "metadata": {},
   "outputs": [],
   "source": [
    "from sklearn.metrics import accuracy_score\n",
    "\n",
    "# Assume y_test and y_pred contain the true and predicted labels respectively\n",
    "\n",
    "# Create a boolean mask for instances where the true labels are class 0\n",
    "mask_class_0 = (y_test == 0)\n",
    "\n",
    "# Filter the true labels and predicted labels using the mask for class 0\n",
    "y_test_class_0 = y_test[mask_class_0]\n",
    "y_pred_class_0 = y_pred[mask_class_0]\n",
    "\n",
    "# Calculate accuracy for class 0\n",
    "accuracy_class_0 = accuracy_score(y_test_class_0, y_pred_class_0)\n",
    "print(\"Accuracy for class 0:\", accuracy_class_0)"
   ]
  },
  {
   "cell_type": "code",
   "execution_count": null,
   "id": "c0fca228-d803-4eeb-a37a-1c76a4d46520",
   "metadata": {},
   "outputs": [],
   "source": [
    "from sklearnex import patch_sklearn\n",
    "patch_sklearn()\n",
    "# Define original_image as your input bands stacked along the first axis\n",
    "original_image = np.stack((\n",
    "    ndB8B2,\n",
    "    ndB3B1,\n",
    "    ndB5B4,\n",
    "    ndB3B2\n",
    "), axis=2)  # Change axis to 2 for RGB image\n",
    "\n",
    "# Re-predict using the entire dataset X\n",
    "y_pred_full = rf_classifier.predict(X)\n",
    "\n",
    "# Reshape y_pred_full to match the shape of original_image\n",
    "predicted_labels_image = y_pred_full.reshape(original_image.shape[:2])\n",
    "\n",
    "# Plot the segmented image\n",
    "plt.figure(figsize=(8, 6))\n",
    "plt.imshow(predicted_labels_image, cmap='viridis')  # You can choose any colormap you prefer\n",
    "plt.colorbar(label='Class')\n",
    "plt.title('Segmented Image')\n",
    "plt.xlabel('Width')\n",
    "plt.ylabel('Height')\n",
    "plt.show()"
   ]
  },
  {
   "cell_type": "markdown",
   "id": "e61ddbe1-5103-47aa-898f-ce6f234dd788",
   "metadata": {},
   "source": [
    "#### And, additionally, do K-means clustering"
   ]
  },
  {
   "cell_type": "code",
   "execution_count": null,
   "id": "f9220663-8677-4e76-99b5-ea817e9de04d",
   "metadata": {},
   "outputs": [],
   "source": [
    "from sklearnex import patch_sklearn\n",
    "patch_sklearn()\n",
    "import numpy as np\n",
    "import matplotlib.pyplot as plt\n",
    "from sklearn.cluster import KMeans\n",
    "from sklearn.metrics import accuracy_score\n",
    "\n",
    "# Assuming you have numpy arrays for each band\n",
    "# Let's say band1, band2, ..., bandN are your individual numpy arrays\n",
    "\n",
    "# Stack bands to create feature vectors\n",
    "#X = np.stack((\n",
    "#    ndB8B2.reshape(-1),\n",
    "#    ndB3B1.reshape(-1),\n",
    "#    ndB5B4_no_nan.reshape(-1),\n",
    "#    ndB3B2.reshape(-1)\n",
    "#), axis=1)\n",
    "\n",
    "X = np.stack((\n",
    "    nir_cropped.reshape(-1),\n",
    "    blue_cropped.reshape(-1),\n",
    "    red_cropped.reshape(-1),\n",
    "    green_cropped.reshape(-1),\n",
    "    coastal_cropped.reshape(-1)\n",
    "), axis=1)\n",
    "\n",
    "# Perform K-means clustering with K=3\n",
    "kmeans = KMeans(n_clusters=3, random_state=42)\n",
    "kmeans.fit(X)\n",
    "\n",
    "# Get the labels of the clusters\n",
    "labels = kmeans.labels_"
   ]
  },
  {
   "cell_type": "code",
   "execution_count": null,
   "id": "611a08b5-34b9-4bd8-84d9-d8c6cd887877",
   "metadata": {},
   "outputs": [],
   "source": [
    "#original_image = np.stack((\n",
    "#    ndB8B2,\n",
    "#    ndB3B1,\n",
    "#    ndB5B4,\n",
    "#    ndB3B2\n",
    "#), axis=2) \n",
    "\n",
    "original_image = np.stack((\n",
    "    nir_cropped,\n",
    "    blue_cropped,\n",
    "    red_cropped,\n",
    "    green_cropped,\n",
    "    coastal_cropped\n",
    "), axis=2) \n",
    "\n",
    "segmented_image = labels.reshape(original_image.shape[:2])\n",
    "\n",
    "# Plot the segmented image\n",
    "plt.figure(figsize=(8, 6))\n",
    "plt.imshow(segmented_image, cmap='viridis')  # You can choose any colormap you prefer\n",
    "plt.colorbar(label='Cluster')\n",
    "plt.title('Segmented Image (K-Means)')\n",
    "plt.xlabel('Width')\n",
    "plt.ylabel('Height')\n",
    "plt.show()"
   ]
  },
  {
   "cell_type": "code",
   "execution_count": null,
   "id": "cd2260dd-15ef-4fbf-8b01-f1dc5fb65880",
   "metadata": {},
   "outputs": [],
   "source": [
    "mask_class0 = final_mask_Posidonia\n",
    "mask_class1 = final_mask_water\n",
    "mask_class2 = final_mask_Land"
   ]
  },
  {
   "cell_type": "code",
   "execution_count": null,
   "id": "469a7a10-5b03-4635-8a37-b800acc9df94",
   "metadata": {},
   "outputs": [],
   "source": [
    "# Count unique values in segmented_image\n",
    "unique_values = np.unique(segmented_image)\n",
    "\n",
    "# Initialize a dictionary to store percentages\n",
    "percentage_dict = {}\n",
    "\n",
    "# Iterate over unique values\n",
    "for value in unique_values:\n",
    "    # Mask for pixels with the current value in segmented_image\n",
    "    value_mask = segmented_image == value\n",
    "    \n",
    "    # Calculate percentages within each mask\n",
    "    percentages = []\n",
    "    for mask in [mask_class0, mask_class1, mask_class2]:\n",
    "        # Count pixels within the current mask and with the current value\n",
    "        pixels_in_mask = np.sum(np.logical_and(value_mask, mask))\n",
    "        total_pixels = np.sum(mask)  # Total number of pixels in the mask\n",
    "        percentage = (pixels_in_mask / total_pixels) * 100\n",
    "        \n",
    "        percentages.append(percentage)\n",
    "    \n",
    "    # Store percentages in the dictionary\n",
    "    percentage_dict[value] = percentages\n",
    "\n",
    "# Create a table to display the percentages\n",
    "print(\"Unique Value\\tPercentage in Mask 0\\tPercentage in Mask 1\\tPercentage in Mask 2\")\n",
    "for value, percentages in percentage_dict.items():\n",
    "    print(f\"{value}\\t\\t{percentages[0]:.2f}%\\t\\t\\t{percentages[1]:.2f}%\\t\\t\\t{percentages[2]:.2f}%\")\n"
   ]
  },
  {
   "cell_type": "code",
   "execution_count": null,
   "id": "9e6c5441-6dd8-40d4-8376-7db4e28294af",
   "metadata": {},
   "outputs": [],
   "source": []
  }
 ],
 "metadata": {
  "kernelspec": {
   "display_name": "geostuff",
   "language": "python",
   "name": "geostuff"
  },
  "language_info": {
   "codemirror_mode": {
    "name": "ipython",
    "version": 3
   },
   "file_extension": ".py",
   "mimetype": "text/x-python",
   "name": "python",
   "nbconvert_exporter": "python",
   "pygments_lexer": "ipython3",
   "version": "3.11.5"
  }
 },
 "nbformat": 4,
 "nbformat_minor": 5
}
